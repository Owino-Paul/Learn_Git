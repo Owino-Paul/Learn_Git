{
  "nbformat": 4,
  "nbformat_minor": 0,
  "metadata": {
    "colab": {
      "provenance": [],
      "authorship_tag": "ABX9TyP71PV59pkFJORkRi1aRW9v",
      "include_colab_link": true
    },
    "kernelspec": {
      "name": "python3",
      "display_name": "Python 3"
    },
    "language_info": {
      "name": "python"
    }
  },
  "cells": [
    {
      "cell_type": "markdown",
      "metadata": {
        "id": "view-in-github",
        "colab_type": "text"
      },
      "source": [
        "<a href=\"https://colab.research.google.com/github/Owino-Paul/Learn_Git/blob/master/File_Handling_Take_Home_Assignment.ipynb\" target=\"_parent\"><img src=\"https://colab.research.google.com/assets/colab-badge.svg\" alt=\"Open In Colab\"/></a>"
      ]
    },
    {
      "cell_type": "code",
      "execution_count": 1,
      "metadata": {
        "colab": {
          "base_uri": "https://localhost:8080/"
        },
        "id": "TQJ0hKgEaEQz",
        "outputId": "5c60f35e-97c4-45fa-f08b-ce8340737ffc"
      },
      "outputs": [
        {
          "output_type": "stream",
          "name": "stdout",
          "text": [
            "88\n"
          ]
        }
      ],
      "source": [
        "# Create a text file and write a short paragraph into it.\n",
        "\n",
        "file = open(\"Take Home\", \"w\")\n",
        "content = file.write(\"File handling refers to the process of performing operations on a file such as creating,\")\n",
        "print(content)\n",
        "\n",
        "file.close()\n",
        "\n"
      ]
    },
    {
      "cell_type": "code",
      "source": [
        "# Read the content of the file and print it.\n",
        "file = open(\"Take Home\", \"r\")\n",
        "content = file.read()\n",
        "print(content)\n",
        "\n",
        "file.close()"
      ],
      "metadata": {
        "colab": {
          "base_uri": "https://localhost:8080/"
        },
        "id": "b2EqMrrQbOV5",
        "outputId": "770fd58f-22f5-4434-ae6e-0b7e4803e9b1"
      },
      "execution_count": 2,
      "outputs": [
        {
          "output_type": "stream",
          "name": "stdout",
          "text": [
            "File handling refers to the process of performing operations on a file such as creating,\n"
          ]
        }
      ]
    },
    {
      "cell_type": "code",
      "source": [
        "# using WITH to read the file\n",
        "with open(\"Take Home\", \"r\") as file:\n",
        "    content = file.read()\n",
        "    print(content)"
      ],
      "metadata": {
        "colab": {
          "base_uri": "https://localhost:8080/"
        },
        "id": "32KEx1I_bWgJ",
        "outputId": "e357c533-0897-47b7-d019-c0e5b342a392"
      },
      "execution_count": 3,
      "outputs": [
        {
          "output_type": "stream",
          "name": "stdout",
          "text": [
            "File handling refers to the process of performing operations on a file such as creating,\n"
          ]
        }
      ]
    },
    {
      "cell_type": "code",
      "source": [
        "# Append a new sentence to the existing file.\n",
        "file = open(\"Take Home\", \"a\")\n",
        "content = file.write(\"\\nopening, reading, writing and closing it, through a programming interface..\")\n",
        "print(content)\n",
        "\n",
        "file.close()"
      ],
      "metadata": {
        "colab": {
          "base_uri": "https://localhost:8080/"
        },
        "id": "q4trkHrjbdbq",
        "outputId": "e79ffb0c-cc0e-4f8c-8784-19fce37e0fb1"
      },
      "execution_count": 4,
      "outputs": [
        {
          "output_type": "stream",
          "name": "stdout",
          "text": [
            "76\n"
          ]
        }
      ]
    },
    {
      "cell_type": "code",
      "source": [
        "# Read a CSV file and display its contents.\n",
        "import csv\n",
        "with open(\"patients.csv\", \"w\", newline = '') as file:\n",
        "    writer = csv.writer(file)\n",
        "    writer.writerow(['Patient', 'Sickness', 'Ward', 'No of Days'])\n",
        "    writer.writerow(['John Doe', 'Malaria', '5B', 3])\n",
        "    writer.writerow(['Jane Doe', 'Typhoid', '1C', 4])\n",
        "    writer.writerow(['Doe Doe', 'Flu', '4D', 1])\n",
        "    writer.writerow(['Kush Wire', 'Swine Flu', '4A', 10])\n",
        "    writer.writerow(['Yule Yule', 'COVOD-19', '4D', 1])\n"
      ],
      "metadata": {
        "id": "24Qed9ljboIC"
      },
      "execution_count": 8,
      "outputs": []
    },
    {
      "cell_type": "code",
      "source": [
        "with open(\"patients.csv\", \"r\") as file:\n",
        "    reader = csv.reader(file)\n",
        "    for row in reader:\n",
        "        print(row)"
      ],
      "metadata": {
        "colab": {
          "base_uri": "https://localhost:8080/"
        },
        "id": "vcpN7eb1eQns",
        "outputId": "a14265d6-b945-41ec-bbcd-b42754b5d809"
      },
      "execution_count": 9,
      "outputs": [
        {
          "output_type": "stream",
          "name": "stdout",
          "text": [
            "['Patient', 'Sickness', 'Ward', 'No of Days']\n",
            "['John Doe', 'Malaria', '5B', '3']\n",
            "['Jane Doe', 'Typhoid', '1C', '4']\n",
            "['Doe Doe', 'Flu', '4D', '1']\n",
            "['Kush Wire', 'Swine Flu', '4A', '10']\n",
            "['Yule Yule', 'COVOD-19', '4D', '1']\n"
          ]
        }
      ]
    },
    {
      "cell_type": "code",
      "source": [
        "# Write a program that stores a dictionary as a JSON file and then read\n",
        "import json\n",
        "data = {'name' : 'John Doe', 'age' : 30, 'county' : 'Nairobi', 'town' : 'Kibera'}\n",
        "with open('data.json', 'w') as file:\n",
        "    json.dump(data, file)"
      ],
      "metadata": {
        "id": "TvKkZnvWdq83"
      },
      "execution_count": 6,
      "outputs": []
    },
    {
      "cell_type": "code",
      "source": [
        "with open('data.json', 'r') as file:\n",
        "    data = json.load(file)\n",
        "print(data)"
      ],
      "metadata": {
        "colab": {
          "base_uri": "https://localhost:8080/"
        },
        "id": "RG8S00L6d7NY",
        "outputId": "5bfee6a2-7505-4512-b593-20720de573e6"
      },
      "execution_count": 7,
      "outputs": [
        {
          "output_type": "stream",
          "name": "stdout",
          "text": [
            "{'name': 'John Doe', 'age': 30, 'county': 'Nairobi', 'town': 'Kibera'}\n"
          ]
        }
      ]
    }
  ]
}