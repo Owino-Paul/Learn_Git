{
  "nbformat": 4,
  "nbformat_minor": 0,
  "metadata": {
    "colab": {
      "provenance": [],
      "authorship_tag": "ABX9TyM8kq3zUDoN0eoFfo66SMIf",
      "include_colab_link": true
    },
    "kernelspec": {
      "name": "python3",
      "display_name": "Python 3"
    },
    "language_info": {
      "name": "python"
    }
  },
  "cells": [
    {
      "cell_type": "markdown",
      "metadata": {
        "id": "view-in-github",
        "colab_type": "text"
      },
      "source": [
        "<a href=\"https://colab.research.google.com/github/Owino-Paul/Learn_Git/blob/master/OMDB_API.ipynb\" target=\"_parent\"><img src=\"https://colab.research.google.com/assets/colab-badge.svg\" alt=\"Open In Colab\"/></a>"
      ]
    },
    {
      "cell_type": "code",
      "execution_count": null,
      "metadata": {
        "colab": {
          "base_uri": "https://localhost:8080/"
        },
        "id": "wj0U4ezLKPVb",
        "outputId": "8957325b-811d-4cf4-fab8-774c855abf25"
      },
      "outputs": [
        {
          "output_type": "stream",
          "name": "stdout",
          "text": [
            "Requirement already satisfied: pandas in /usr/local/lib/python3.11/dist-packages (2.2.2)\n",
            "Requirement already satisfied: requests in /usr/local/lib/python3.11/dist-packages (2.32.3)\n",
            "Requirement already satisfied: numpy>=1.23.2 in /usr/local/lib/python3.11/dist-packages (from pandas) (2.0.2)\n",
            "Requirement already satisfied: python-dateutil>=2.8.2 in /usr/local/lib/python3.11/dist-packages (from pandas) (2.8.2)\n",
            "Requirement already satisfied: pytz>=2020.1 in /usr/local/lib/python3.11/dist-packages (from pandas) (2025.1)\n",
            "Requirement already satisfied: tzdata>=2022.7 in /usr/local/lib/python3.11/dist-packages (from pandas) (2025.1)\n",
            "Requirement already satisfied: charset-normalizer<4,>=2 in /usr/local/lib/python3.11/dist-packages (from requests) (3.4.1)\n",
            "Requirement already satisfied: idna<4,>=2.5 in /usr/local/lib/python3.11/dist-packages (from requests) (3.10)\n",
            "Requirement already satisfied: urllib3<3,>=1.21.1 in /usr/local/lib/python3.11/dist-packages (from requests) (2.3.0)\n",
            "Requirement already satisfied: certifi>=2017.4.17 in /usr/local/lib/python3.11/dist-packages (from requests) (2025.1.31)\n",
            "Requirement already satisfied: six>=1.5 in /usr/local/lib/python3.11/dist-packages (from python-dateutil>=2.8.2->pandas) (1.17.0)\n"
          ]
        }
      ],
      "source": [
        "# Installing REQUESTS and PANDAS Libraries\n",
        "!pip install pandas requests\n"
      ]
    },
    {
      "cell_type": "code",
      "source": [
        "# Importing PANDAS and REQUESTS\n",
        "\n",
        "import pandas as pd\n",
        "import requests\n",
        "\n"
      ],
      "metadata": {
        "id": "sG4fWt5fMbUc"
      },
      "execution_count": null,
      "outputs": []
    },
    {
      "cell_type": "code",
      "source": [
        "# Setting up API\n",
        "base_url = \"https://www.omdbapi.com/\"\n",
        "api_key = \"3f5a8dc\"\n",
        "\n",
        "# Parsing JSON\n",
        "data = response.json()\n",
        "results = data.get(\"Search\", [])\n",
        "\n",
        "# Parameters to GET requests\n",
        "params = {\"apikey\": api_key, \"s\": \"star wars\"}\n",
        "\n",
        "# Sending GET requests\n",
        "response = requests.get(base_url, params=params)\n",
        "\n",
        "# Checking the response\n",
        "if response.status_code == 200:\n",
        "    results = response.json()['Search']\n",
        "    for result in results:\n",
        "        print(result['Title'])\n",
        "else:\n",
        "    print(\"Error:\", response.status_code)"
      ],
      "metadata": {
        "colab": {
          "base_uri": "https://localhost:8080/"
        },
        "id": "VFgJTDkcNcsZ",
        "outputId": "21cb8437-8385-4f63-fe30-8cd39706bd79"
      },
      "execution_count": 17,
      "outputs": [
        {
          "output_type": "stream",
          "name": "stdout",
          "text": [
            "Star Wars: Episode IV - A New Hope\n",
            "Star Wars: Episode V - The Empire Strikes Back\n",
            "Star Wars: Episode VI - Return of the Jedi\n",
            "Star Wars: Episode VII - The Force Awakens\n",
            "Star Wars: Episode I - The Phantom Menace\n",
            "Star Wars: Episode III - Revenge of the Sith\n",
            "Star Wars: Episode II - Attack of the Clones\n",
            "Rogue One: A Star Wars Story\n",
            "Star Wars: Episode VIII - The Last Jedi\n",
            "Star Wars: Episode IX - The Rise of Skywalker\n"
          ]
        }
      ]
    },
    {
      "cell_type": "code",
      "source": [
        "# Organising the results using PANDAS\n",
        "# Create an empty movies list\n",
        "movies_list = []\n",
        "\n",
        "# Extracting Each Movie's Data\n",
        "for result in results:\n",
        "    movie_details = {\n",
        "        \"Title\": result[\"Title\"],\n",
        "        \"Year\": result[\"Year\"],\n",
        "        \"imdbID\": result[\"imdbID\"],\n",
        "        \"Type\": result[\"Type\"]\n",
        "    }\n",
        "\n",
        "    # Appending movie details to the empty movie list\n",
        "    movies_list.append(movie_details)"
      ],
      "metadata": {
        "id": "f70khqxzVHf9"
      },
      "execution_count": 18,
      "outputs": []
    },
    {
      "cell_type": "code",
      "source": [
        "#creating the movies data frame\n",
        "movies_df = pd.DataFrame(movies_list)\n",
        "\n",
        "# Displaying the entire results from movies data frame\n",
        "# movies_df\n",
        "\n",
        "# display the first movie from the list\n",
        "print(movies_df.head(1))"
      ],
      "metadata": {
        "colab": {
          "base_uri": "https://localhost:8080/"
        },
        "id": "O-NT1Y-QXGGD",
        "outputId": "31da2a87-96c4-47e6-955e-e948ab1cd98e"
      },
      "execution_count": 24,
      "outputs": [
        {
          "output_type": "stream",
          "name": "stdout",
          "text": [
            "                                Title  Year     imdbID   Type\n",
            "0  Star Wars: Episode IV - A New Hope  1977  tt0076759  movie\n"
          ]
        }
      ]
    },
    {
      "cell_type": "code",
      "source": [
        "#"
      ],
      "metadata": {
        "id": "JyMTU8f6XYFG"
      },
      "execution_count": null,
      "outputs": []
    }
  ]
}