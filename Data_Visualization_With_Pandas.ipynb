{
  "nbformat": 4,
  "nbformat_minor": 0,
  "metadata": {
    "colab": {
      "provenance": [],
      "authorship_tag": "ABX9TyMxwsnwKilyWZYqVRZLrZcL",
      "include_colab_link": true
    },
    "kernelspec": {
      "name": "python3",
      "display_name": "Python 3"
    },
    "language_info": {
      "name": "python"
    }
  },
  "cells": [
    {
      "cell_type": "markdown",
      "metadata": {
        "id": "view-in-github",
        "colab_type": "text"
      },
      "source": [
        "<a href=\"https://colab.research.google.com/github/Owino-Paul/Learn_Git/blob/master/Data_Visualization_With_Pandas.ipynb\" target=\"_parent\"><img src=\"https://colab.research.google.com/assets/colab-badge.svg\" alt=\"Open In Colab\"/></a>"
      ]
    },
    {
      "cell_type": "markdown",
      "source": [
        "# 1. Load the dataset into a data frame using Python."
      ],
      "metadata": {
        "id": "DJEM9oymdf5Q"
      }
    },
    {
      "cell_type": "code",
      "execution_count": 96,
      "metadata": {
        "id": "v1U2dSa-fL7e"
      },
      "outputs": [],
      "source": [
        "# Importing python libraries for data visualization\n",
        "import pandas as pd\n",
        "import numpy as np\n",
        "import matplotlib.pyplot as plt\n",
        "import seaborn as sns"
      ]
    },
    {
      "cell_type": "code",
      "source": [
        "# loading data set to\n",
        "df = pd.read_csv(\"Africa_climate_change.csv\")"
      ],
      "metadata": {
        "id": "1uTxW14WPvAQ"
      },
      "execution_count": 97,
      "outputs": []
    },
    {
      "cell_type": "code",
      "source": [
        "# Checking General info\n",
        "df.info()"
      ],
      "metadata": {
        "id": "W5yJCQyOPuzY",
        "colab": {
          "base_uri": "https://localhost:8080/"
        },
        "collapsed": true,
        "outputId": "f79db3c1-e175-4e03-a1a3-7b438bc1ddc7"
      },
      "execution_count": 98,
      "outputs": [
        {
          "output_type": "stream",
          "name": "stdout",
          "text": [
            "<class 'pandas.core.frame.DataFrame'>\n",
            "RangeIndex: 464815 entries, 0 to 464814\n",
            "Data columns (total 6 columns):\n",
            " #   Column   Non-Null Count   Dtype  \n",
            "---  ------   --------------   -----  \n",
            " 0   DATE     464815 non-null  object \n",
            " 1   PRCP     177575 non-null  float64\n",
            " 2   TAVG     458439 non-null  float64\n",
            " 3   TMAX     363901 non-null  float64\n",
            " 4   TMIN     332757 non-null  float64\n",
            " 5   COUNTRY  464815 non-null  object \n",
            "dtypes: float64(4), object(2)\n",
            "memory usage: 21.3+ MB\n"
          ]
        }
      ]
    },
    {
      "cell_type": "code",
      "source": [
        "# Checking for missing values\n",
        "df.isnull().sum()"
      ],
      "metadata": {
        "id": "opqEvgzOPupi",
        "colab": {
          "base_uri": "https://localhost:8080/",
          "height": 272
        },
        "collapsed": true,
        "outputId": "9af929fc-2d58-4773-eddc-d9a65aaceb87"
      },
      "execution_count": 99,
      "outputs": [
        {
          "output_type": "execute_result",
          "data": {
            "text/plain": [
              "DATE            0\n",
              "PRCP       287240\n",
              "TAVG         6376\n",
              "TMAX       100914\n",
              "TMIN       132058\n",
              "COUNTRY         0\n",
              "dtype: int64"
            ],
            "text/html": [
              "<div>\n",
              "<style scoped>\n",
              "    .dataframe tbody tr th:only-of-type {\n",
              "        vertical-align: middle;\n",
              "    }\n",
              "\n",
              "    .dataframe tbody tr th {\n",
              "        vertical-align: top;\n",
              "    }\n",
              "\n",
              "    .dataframe thead th {\n",
              "        text-align: right;\n",
              "    }\n",
              "</style>\n",
              "<table border=\"1\" class=\"dataframe\">\n",
              "  <thead>\n",
              "    <tr style=\"text-align: right;\">\n",
              "      <th></th>\n",
              "      <th>0</th>\n",
              "    </tr>\n",
              "  </thead>\n",
              "  <tbody>\n",
              "    <tr>\n",
              "      <th>DATE</th>\n",
              "      <td>0</td>\n",
              "    </tr>\n",
              "    <tr>\n",
              "      <th>PRCP</th>\n",
              "      <td>287240</td>\n",
              "    </tr>\n",
              "    <tr>\n",
              "      <th>TAVG</th>\n",
              "      <td>6376</td>\n",
              "    </tr>\n",
              "    <tr>\n",
              "      <th>TMAX</th>\n",
              "      <td>100914</td>\n",
              "    </tr>\n",
              "    <tr>\n",
              "      <th>TMIN</th>\n",
              "      <td>132058</td>\n",
              "    </tr>\n",
              "    <tr>\n",
              "      <th>COUNTRY</th>\n",
              "      <td>0</td>\n",
              "    </tr>\n",
              "  </tbody>\n",
              "</table>\n",
              "</div><br><label><b>dtype:</b> int64</label>"
            ]
          },
          "metadata": {},
          "execution_count": 99
        }
      ]
    },
    {
      "cell_type": "markdown",
      "source": [
        "# 2. Clean the data as needed."
      ],
      "metadata": {
        "id": "kJqooE7Eeky-"
      }
    },
    {
      "cell_type": "code",
      "source": [
        "# Checking column data tyoes\n",
        "df.dtypes"
      ],
      "metadata": {
        "id": "6J0FfMbUPugb",
        "colab": {
          "base_uri": "https://localhost:8080/",
          "height": 272
        },
        "collapsed": true,
        "outputId": "81d95201-2fec-4492-ddc9-5eb3cb03f066"
      },
      "execution_count": 100,
      "outputs": [
        {
          "output_type": "execute_result",
          "data": {
            "text/plain": [
              "DATE        object\n",
              "PRCP       float64\n",
              "TAVG       float64\n",
              "TMAX       float64\n",
              "TMIN       float64\n",
              "COUNTRY     object\n",
              "dtype: object"
            ],
            "text/html": [
              "<div>\n",
              "<style scoped>\n",
              "    .dataframe tbody tr th:only-of-type {\n",
              "        vertical-align: middle;\n",
              "    }\n",
              "\n",
              "    .dataframe tbody tr th {\n",
              "        vertical-align: top;\n",
              "    }\n",
              "\n",
              "    .dataframe thead th {\n",
              "        text-align: right;\n",
              "    }\n",
              "</style>\n",
              "<table border=\"1\" class=\"dataframe\">\n",
              "  <thead>\n",
              "    <tr style=\"text-align: right;\">\n",
              "      <th></th>\n",
              "      <th>0</th>\n",
              "    </tr>\n",
              "  </thead>\n",
              "  <tbody>\n",
              "    <tr>\n",
              "      <th>DATE</th>\n",
              "      <td>object</td>\n",
              "    </tr>\n",
              "    <tr>\n",
              "      <th>PRCP</th>\n",
              "      <td>float64</td>\n",
              "    </tr>\n",
              "    <tr>\n",
              "      <th>TAVG</th>\n",
              "      <td>float64</td>\n",
              "    </tr>\n",
              "    <tr>\n",
              "      <th>TMAX</th>\n",
              "      <td>float64</td>\n",
              "    </tr>\n",
              "    <tr>\n",
              "      <th>TMIN</th>\n",
              "      <td>float64</td>\n",
              "    </tr>\n",
              "    <tr>\n",
              "      <th>COUNTRY</th>\n",
              "      <td>object</td>\n",
              "    </tr>\n",
              "  </tbody>\n",
              "</table>\n",
              "</div><br><label><b>dtype:</b> object</label>"
            ]
          },
          "metadata": {},
          "execution_count": 100
        }
      ]
    },
    {
      "cell_type": "code",
      "source": [
        "# standardize the column names\n",
        "df.columns = df.columns.str.strip().str.lower().str.replace(\" \", \"_\")\n",
        "print(df.columns)"
      ],
      "metadata": {
        "colab": {
          "base_uri": "https://localhost:8080/"
        },
        "id": "zfPeyOcmhtlh",
        "outputId": "ea3aa962-073e-4040-8954-2388d1980a5a"
      },
      "execution_count": 101,
      "outputs": [
        {
          "output_type": "stream",
          "name": "stdout",
          "text": [
            "Index(['date', 'prcp', 'tavg', 'tmax', 'tmin', 'country'], dtype='object')\n"
          ]
        }
      ]
    },
    {
      "cell_type": "code",
      "source": [
        "# checking for duplicates using the dates feild\n",
        "df.duplicated(subset=['date']).sum()"
      ],
      "metadata": {
        "colab": {
          "base_uri": "https://localhost:8080/"
        },
        "collapsed": true,
        "id": "0soUm0iSfGaZ",
        "outputId": "99113d49-3900-432b-97d5-b1b840782fee"
      },
      "execution_count": 102,
      "outputs": [
        {
          "output_type": "execute_result",
          "data": {
            "text/plain": [
              "np.int64(448877)"
            ]
          },
          "metadata": {},
          "execution_count": 102
        }
      ]
    },
    {
      "cell_type": "code",
      "source": [
        "print(df[\"date\"].duplicated().sum())  # Count duplicate dates"
      ],
      "metadata": {
        "id": "sulrz6fDPuVN",
        "colab": {
          "base_uri": "https://localhost:8080/"
        },
        "outputId": "21633037-c433-4ea6-8cee-f779122b0859"
      },
      "execution_count": 103,
      "outputs": [
        {
          "output_type": "stream",
          "name": "stdout",
          "text": [
            "448877\n"
          ]
        }
      ]
    },
    {
      "cell_type": "code",
      "source": [
        " # Count duplicates where both date & country match\n",
        "df.duplicated(subset=['date', 'country']).sum()"
      ],
      "metadata": {
        "id": "_-61GOgKPuMZ",
        "colab": {
          "base_uri": "https://localhost:8080/"
        },
        "outputId": "25740743-8dfa-4820-82df-1db0f365d48c"
      },
      "execution_count": 104,
      "outputs": [
        {
          "output_type": "execute_result",
          "data": {
            "text/plain": [
              "np.int64(393992)"
            ]
          },
          "metadata": {},
          "execution_count": 104
        }
      ]
    },
    {
      "cell_type": "code",
      "source": [
        "# sort values by date, tavg & coutry ascending order\n",
        "df = df.sort_values(by=[\"date\", \"country\", \"tavg\"], ascending=[True, True, False])\n",
        "\n",
        "# dropping duplicates where both and country match\n",
        "df = df.drop_duplicates(subset=[\"date\", \"country\"], keep=\"first\")\n",
        "\n",
        "# view sum of duplicates sorted by date and country\n",
        "print(df.duplicated(subset=[\"date\", \"country\"]).sum())\n",
        "\n",
        "# view general info\n",
        "print(df.info())\n",
        "\n"
      ],
      "metadata": {
        "id": "AvDQuFPqPuDj",
        "colab": {
          "base_uri": "https://localhost:8080/"
        },
        "collapsed": true,
        "outputId": "6575f318-e43e-4f07-f1eb-74d973054bc6"
      },
      "execution_count": 105,
      "outputs": [
        {
          "output_type": "stream",
          "name": "stdout",
          "text": [
            "0\n",
            "<class 'pandas.core.frame.DataFrame'>\n",
            "Index: 70823 entries, 20 to 464799\n",
            "Data columns (total 6 columns):\n",
            " #   Column   Non-Null Count  Dtype  \n",
            "---  ------   --------------  -----  \n",
            " 0   date     70823 non-null  object \n",
            " 1   prcp     26685 non-null  float64\n",
            " 2   tavg     68631 non-null  float64\n",
            " 3   tmax     46949 non-null  float64\n",
            " 4   tmin     42964 non-null  float64\n",
            " 5   country  70823 non-null  object \n",
            "dtypes: float64(4), object(2)\n",
            "memory usage: 3.8+ MB\n",
            "None\n"
          ]
        }
      ]
    },
    {
      "cell_type": "code",
      "source": [
        "# fill remaing missing values with interpolation\n",
        "df.interpolate(method=\"linear\", inplace=True)\n"
      ],
      "metadata": {
        "id": "6oCgHXNAPt6A",
        "colab": {
          "base_uri": "https://localhost:8080/"
        },
        "outputId": "9aff4956-f77d-49fd-d1d7-5df16d366035"
      },
      "execution_count": 106,
      "outputs": [
        {
          "output_type": "stream",
          "name": "stderr",
          "text": [
            "<ipython-input-106-572a1ffbe325>:2: FutureWarning: DataFrame.interpolate with object dtype is deprecated and will raise in a future version. Call obj.infer_objects(copy=False) before interpolating instead.\n",
            "  df.interpolate(method=\"linear\", inplace=True)\n"
          ]
        }
      ]
    },
    {
      "cell_type": "code",
      "source": [
        "# view a specific country climate change info\n",
        "# assign a country of your chooising to a viarible\n",
        "country_name = \"Angola\"\n",
        "\n",
        "# Filter the dataset\n",
        "df_country = df[df[\"country\"] == country_name]\n",
        "\n",
        "# Display first 10 rows\n",
        "print(df_country.head(10))"
      ],
      "metadata": {
        "id": "brN-GfxwPtwg",
        "colab": {
          "base_uri": "https://localhost:8080/"
        },
        "collapsed": true,
        "outputId": "5c267fcd-153f-4b52-bf7b-232093f51665"
      },
      "execution_count": 107,
      "outputs": [
        {
          "output_type": "stream",
          "name": "stdout",
          "text": [
            "                date  prcp  tavg  tmax  tmin country\n",
            "20   19800101 000000   0.0   NaN   NaN   NaN  Angola\n",
            "35   19800102 000000   0.0  67.5  75.5  59.0  Angola\n",
            "55   19800103 000000   0.0  69.5  78.5  60.5  Angola\n",
            "75   19800104 000000   0.0  67.0  75.5  59.5  Angola\n",
            "107  19800105 000000   0.0  67.0  77.5  56.0  Angola\n",
            "133  19800106 000000   0.0  65.5  79.0  57.0  Angola\n",
            "153  19800107 000000   0.0  67.0  75.0  59.5  Angola\n",
            "190  19800108 000000   0.0  67.0  77.5  59.0  Angola\n",
            "196  19800109 000000   0.0  66.0  75.0  58.0  Angola\n",
            "233  19800110 000000   0.0  65.5  77.0  57.0  Angola\n"
          ]
        }
      ]
    },
    {
      "cell_type": "code",
      "source": [
        "print(df[\"country\"].unique())  # View all country names\n"
      ],
      "metadata": {
        "id": "gL1Z5DHhPtmY",
        "colab": {
          "base_uri": "https://localhost:8080/"
        },
        "outputId": "abad4e7e-fca4-4339-b1cb-8d12ef5329ab"
      },
      "execution_count": 108,
      "outputs": [
        {
          "output_type": "stream",
          "name": "stdout",
          "text": [
            "['Angola' 'Cameroon' 'Egypt' 'Senegal' 'Tunisia']\n"
          ]
        }
      ]
    },
    {
      "cell_type": "code",
      "source": [
        "# compare different countries\n",
        "country1 = \"Angola\"\n",
        "country2 = \"Egypt\"\n",
        "\n",
        "# First 10 rows for country 1 & 2\n",
        "df_country1 = df[df[\"country\"] == country1].head(10)\n",
        "df_country2 = df[df[\"country\"] == country2].head(10)\n",
        "\n",
        "df_compare = pd.concat([df_country1, df_country2], keys=[country1, country2])\n",
        "print(df_compare)\n",
        "\n"
      ],
      "metadata": {
        "id": "lJC_w9eAPtco",
        "colab": {
          "base_uri": "https://localhost:8080/"
        },
        "collapsed": true,
        "outputId": "ee34f2d5-9eaa-4320-a6bd-8f521cb9b1da"
      },
      "execution_count": 109,
      "outputs": [
        {
          "output_type": "stream",
          "name": "stdout",
          "text": [
            "                       date  prcp  tavg  tmax  tmin country\n",
            "Angola 20   19800101 000000  0.00   NaN   NaN   NaN  Angola\n",
            "       35   19800102 000000  0.00  67.5  75.5  59.0  Angola\n",
            "       55   19800103 000000  0.00  69.5  78.5  60.5  Angola\n",
            "       75   19800104 000000  0.00  67.0  75.5  59.5  Angola\n",
            "       107  19800105 000000  0.00  67.0  77.5  56.0  Angola\n",
            "       133  19800106 000000  0.00  65.5  79.0  57.0  Angola\n",
            "       153  19800107 000000  0.00  67.0  75.0  59.5  Angola\n",
            "       190  19800108 000000  0.00  67.0  77.5  59.0  Angola\n",
            "       196  19800109 000000  0.00  66.0  75.0  58.0  Angola\n",
            "       233  19800110 000000  0.00  65.5  77.0  57.0  Angola\n",
            "Egypt  16   19800101 000000  0.00  61.0  94.0  46.0   Egypt\n",
            "       30   19800102 000000  0.00  59.0  72.0  45.0   Egypt\n",
            "       71   19800103 000000  0.00  62.0  73.0  45.0   Egypt\n",
            "       78   19800104 000000  0.00  56.0  64.0  69.5   Egypt\n",
            "       112  19800105 000000  0.00  57.0  66.0  46.0   Egypt\n",
            "       131  19800106 000000  0.24  55.0  92.0  64.5   Egypt\n",
            "       166  19800107 000000  0.00  54.0  64.0  43.0   Egypt\n",
            "       180  19800108 000000  0.00  56.0  66.0  43.0   Egypt\n",
            "       214  19800109 000000  0.00  59.0  91.0  46.0   Egypt\n",
            "       231  19800110 000000  0.00  58.0  70.0  43.0   Egypt\n"
          ]
        }
      ]
    },
    {
      "cell_type": "code",
      "source": [
        "from IPython.display import display\n",
        "\n",
        "# First, filter and get the top 5 rows\n",
        "df_country1_head = df_country1.head(5)\n",
        "df_country2_head = df_country2.head(5)\n",
        "\n",
        "# Then, display them correctly\n",
        "display(df_country1_head)\n",
        "display(df_country2_head)\n"
      ],
      "metadata": {
        "id": "ASNKhij9PtUJ",
        "colab": {
          "base_uri": "https://localhost:8080/",
          "height": 395
        },
        "collapsed": true,
        "outputId": "e75da9cf-6952-431e-cfee-7dcd1901144b"
      },
      "execution_count": 110,
      "outputs": [
        {
          "output_type": "display_data",
          "data": {
            "text/plain": [
              "                date  prcp  tavg  tmax  tmin country\n",
              "20   19800101 000000   0.0   NaN   NaN   NaN  Angola\n",
              "35   19800102 000000   0.0  67.5  75.5  59.0  Angola\n",
              "55   19800103 000000   0.0  69.5  78.5  60.5  Angola\n",
              "75   19800104 000000   0.0  67.0  75.5  59.5  Angola\n",
              "107  19800105 000000   0.0  67.0  77.5  56.0  Angola"
            ],
            "text/html": [
              "\n",
              "  <div id=\"df-c229b3cc-5693-41b7-8102-c6a5b644631c\" class=\"colab-df-container\">\n",
              "    <div>\n",
              "<style scoped>\n",
              "    .dataframe tbody tr th:only-of-type {\n",
              "        vertical-align: middle;\n",
              "    }\n",
              "\n",
              "    .dataframe tbody tr th {\n",
              "        vertical-align: top;\n",
              "    }\n",
              "\n",
              "    .dataframe thead th {\n",
              "        text-align: right;\n",
              "    }\n",
              "</style>\n",
              "<table border=\"1\" class=\"dataframe\">\n",
              "  <thead>\n",
              "    <tr style=\"text-align: right;\">\n",
              "      <th></th>\n",
              "      <th>date</th>\n",
              "      <th>prcp</th>\n",
              "      <th>tavg</th>\n",
              "      <th>tmax</th>\n",
              "      <th>tmin</th>\n",
              "      <th>country</th>\n",
              "    </tr>\n",
              "  </thead>\n",
              "  <tbody>\n",
              "    <tr>\n",
              "      <th>20</th>\n",
              "      <td>19800101 000000</td>\n",
              "      <td>0.0</td>\n",
              "      <td>NaN</td>\n",
              "      <td>NaN</td>\n",
              "      <td>NaN</td>\n",
              "      <td>Angola</td>\n",
              "    </tr>\n",
              "    <tr>\n",
              "      <th>35</th>\n",
              "      <td>19800102 000000</td>\n",
              "      <td>0.0</td>\n",
              "      <td>67.5</td>\n",
              "      <td>75.5</td>\n",
              "      <td>59.0</td>\n",
              "      <td>Angola</td>\n",
              "    </tr>\n",
              "    <tr>\n",
              "      <th>55</th>\n",
              "      <td>19800103 000000</td>\n",
              "      <td>0.0</td>\n",
              "      <td>69.5</td>\n",
              "      <td>78.5</td>\n",
              "      <td>60.5</td>\n",
              "      <td>Angola</td>\n",
              "    </tr>\n",
              "    <tr>\n",
              "      <th>75</th>\n",
              "      <td>19800104 000000</td>\n",
              "      <td>0.0</td>\n",
              "      <td>67.0</td>\n",
              "      <td>75.5</td>\n",
              "      <td>59.5</td>\n",
              "      <td>Angola</td>\n",
              "    </tr>\n",
              "    <tr>\n",
              "      <th>107</th>\n",
              "      <td>19800105 000000</td>\n",
              "      <td>0.0</td>\n",
              "      <td>67.0</td>\n",
              "      <td>77.5</td>\n",
              "      <td>56.0</td>\n",
              "      <td>Angola</td>\n",
              "    </tr>\n",
              "  </tbody>\n",
              "</table>\n",
              "</div>\n",
              "    <div class=\"colab-df-buttons\">\n",
              "\n",
              "  <div class=\"colab-df-container\">\n",
              "    <button class=\"colab-df-convert\" onclick=\"convertToInteractive('df-c229b3cc-5693-41b7-8102-c6a5b644631c')\"\n",
              "            title=\"Convert this dataframe to an interactive table.\"\n",
              "            style=\"display:none;\">\n",
              "\n",
              "  <svg xmlns=\"http://www.w3.org/2000/svg\" height=\"24px\" viewBox=\"0 -960 960 960\">\n",
              "    <path d=\"M120-120v-720h720v720H120Zm60-500h600v-160H180v160Zm220 220h160v-160H400v160Zm0 220h160v-160H400v160ZM180-400h160v-160H180v160Zm440 0h160v-160H620v160ZM180-180h160v-160H180v160Zm440 0h160v-160H620v160Z\"/>\n",
              "  </svg>\n",
              "    </button>\n",
              "\n",
              "  <style>\n",
              "    .colab-df-container {\n",
              "      display:flex;\n",
              "      gap: 12px;\n",
              "    }\n",
              "\n",
              "    .colab-df-convert {\n",
              "      background-color: #E8F0FE;\n",
              "      border: none;\n",
              "      border-radius: 50%;\n",
              "      cursor: pointer;\n",
              "      display: none;\n",
              "      fill: #1967D2;\n",
              "      height: 32px;\n",
              "      padding: 0 0 0 0;\n",
              "      width: 32px;\n",
              "    }\n",
              "\n",
              "    .colab-df-convert:hover {\n",
              "      background-color: #E2EBFA;\n",
              "      box-shadow: 0px 1px 2px rgba(60, 64, 67, 0.3), 0px 1px 3px 1px rgba(60, 64, 67, 0.15);\n",
              "      fill: #174EA6;\n",
              "    }\n",
              "\n",
              "    .colab-df-buttons div {\n",
              "      margin-bottom: 4px;\n",
              "    }\n",
              "\n",
              "    [theme=dark] .colab-df-convert {\n",
              "      background-color: #3B4455;\n",
              "      fill: #D2E3FC;\n",
              "    }\n",
              "\n",
              "    [theme=dark] .colab-df-convert:hover {\n",
              "      background-color: #434B5C;\n",
              "      box-shadow: 0px 1px 3px 1px rgba(0, 0, 0, 0.15);\n",
              "      filter: drop-shadow(0px 1px 2px rgba(0, 0, 0, 0.3));\n",
              "      fill: #FFFFFF;\n",
              "    }\n",
              "  </style>\n",
              "\n",
              "    <script>\n",
              "      const buttonEl =\n",
              "        document.querySelector('#df-c229b3cc-5693-41b7-8102-c6a5b644631c button.colab-df-convert');\n",
              "      buttonEl.style.display =\n",
              "        google.colab.kernel.accessAllowed ? 'block' : 'none';\n",
              "\n",
              "      async function convertToInteractive(key) {\n",
              "        const element = document.querySelector('#df-c229b3cc-5693-41b7-8102-c6a5b644631c');\n",
              "        const dataTable =\n",
              "          await google.colab.kernel.invokeFunction('convertToInteractive',\n",
              "                                                    [key], {});\n",
              "        if (!dataTable) return;\n",
              "\n",
              "        const docLinkHtml = 'Like what you see? Visit the ' +\n",
              "          '<a target=\"_blank\" href=https://colab.research.google.com/notebooks/data_table.ipynb>data table notebook</a>'\n",
              "          + ' to learn more about interactive tables.';\n",
              "        element.innerHTML = '';\n",
              "        dataTable['output_type'] = 'display_data';\n",
              "        await google.colab.output.renderOutput(dataTable, element);\n",
              "        const docLink = document.createElement('div');\n",
              "        docLink.innerHTML = docLinkHtml;\n",
              "        element.appendChild(docLink);\n",
              "      }\n",
              "    </script>\n",
              "  </div>\n",
              "\n",
              "\n",
              "    <div id=\"df-b628f85e-7a8e-4a7c-b890-c4b50d177c86\">\n",
              "      <button class=\"colab-df-quickchart\" onclick=\"quickchart('df-b628f85e-7a8e-4a7c-b890-c4b50d177c86')\"\n",
              "                title=\"Suggest charts\"\n",
              "                style=\"display:none;\">\n",
              "\n",
              "<svg xmlns=\"http://www.w3.org/2000/svg\" height=\"24px\"viewBox=\"0 0 24 24\"\n",
              "     width=\"24px\">\n",
              "    <g>\n",
              "        <path d=\"M19 3H5c-1.1 0-2 .9-2 2v14c0 1.1.9 2 2 2h14c1.1 0 2-.9 2-2V5c0-1.1-.9-2-2-2zM9 17H7v-7h2v7zm4 0h-2V7h2v10zm4 0h-2v-4h2v4z\"/>\n",
              "    </g>\n",
              "</svg>\n",
              "      </button>\n",
              "\n",
              "<style>\n",
              "  .colab-df-quickchart {\n",
              "      --bg-color: #E8F0FE;\n",
              "      --fill-color: #1967D2;\n",
              "      --hover-bg-color: #E2EBFA;\n",
              "      --hover-fill-color: #174EA6;\n",
              "      --disabled-fill-color: #AAA;\n",
              "      --disabled-bg-color: #DDD;\n",
              "  }\n",
              "\n",
              "  [theme=dark] .colab-df-quickchart {\n",
              "      --bg-color: #3B4455;\n",
              "      --fill-color: #D2E3FC;\n",
              "      --hover-bg-color: #434B5C;\n",
              "      --hover-fill-color: #FFFFFF;\n",
              "      --disabled-bg-color: #3B4455;\n",
              "      --disabled-fill-color: #666;\n",
              "  }\n",
              "\n",
              "  .colab-df-quickchart {\n",
              "    background-color: var(--bg-color);\n",
              "    border: none;\n",
              "    border-radius: 50%;\n",
              "    cursor: pointer;\n",
              "    display: none;\n",
              "    fill: var(--fill-color);\n",
              "    height: 32px;\n",
              "    padding: 0;\n",
              "    width: 32px;\n",
              "  }\n",
              "\n",
              "  .colab-df-quickchart:hover {\n",
              "    background-color: var(--hover-bg-color);\n",
              "    box-shadow: 0 1px 2px rgba(60, 64, 67, 0.3), 0 1px 3px 1px rgba(60, 64, 67, 0.15);\n",
              "    fill: var(--button-hover-fill-color);\n",
              "  }\n",
              "\n",
              "  .colab-df-quickchart-complete:disabled,\n",
              "  .colab-df-quickchart-complete:disabled:hover {\n",
              "    background-color: var(--disabled-bg-color);\n",
              "    fill: var(--disabled-fill-color);\n",
              "    box-shadow: none;\n",
              "  }\n",
              "\n",
              "  .colab-df-spinner {\n",
              "    border: 2px solid var(--fill-color);\n",
              "    border-color: transparent;\n",
              "    border-bottom-color: var(--fill-color);\n",
              "    animation:\n",
              "      spin 1s steps(1) infinite;\n",
              "  }\n",
              "\n",
              "  @keyframes spin {\n",
              "    0% {\n",
              "      border-color: transparent;\n",
              "      border-bottom-color: var(--fill-color);\n",
              "      border-left-color: var(--fill-color);\n",
              "    }\n",
              "    20% {\n",
              "      border-color: transparent;\n",
              "      border-left-color: var(--fill-color);\n",
              "      border-top-color: var(--fill-color);\n",
              "    }\n",
              "    30% {\n",
              "      border-color: transparent;\n",
              "      border-left-color: var(--fill-color);\n",
              "      border-top-color: var(--fill-color);\n",
              "      border-right-color: var(--fill-color);\n",
              "    }\n",
              "    40% {\n",
              "      border-color: transparent;\n",
              "      border-right-color: var(--fill-color);\n",
              "      border-top-color: var(--fill-color);\n",
              "    }\n",
              "    60% {\n",
              "      border-color: transparent;\n",
              "      border-right-color: var(--fill-color);\n",
              "    }\n",
              "    80% {\n",
              "      border-color: transparent;\n",
              "      border-right-color: var(--fill-color);\n",
              "      border-bottom-color: var(--fill-color);\n",
              "    }\n",
              "    90% {\n",
              "      border-color: transparent;\n",
              "      border-bottom-color: var(--fill-color);\n",
              "    }\n",
              "  }\n",
              "</style>\n",
              "\n",
              "      <script>\n",
              "        async function quickchart(key) {\n",
              "          const quickchartButtonEl =\n",
              "            document.querySelector('#' + key + ' button');\n",
              "          quickchartButtonEl.disabled = true;  // To prevent multiple clicks.\n",
              "          quickchartButtonEl.classList.add('colab-df-spinner');\n",
              "          try {\n",
              "            const charts = await google.colab.kernel.invokeFunction(\n",
              "                'suggestCharts', [key], {});\n",
              "          } catch (error) {\n",
              "            console.error('Error during call to suggestCharts:', error);\n",
              "          }\n",
              "          quickchartButtonEl.classList.remove('colab-df-spinner');\n",
              "          quickchartButtonEl.classList.add('colab-df-quickchart-complete');\n",
              "        }\n",
              "        (() => {\n",
              "          let quickchartButtonEl =\n",
              "            document.querySelector('#df-b628f85e-7a8e-4a7c-b890-c4b50d177c86 button');\n",
              "          quickchartButtonEl.style.display =\n",
              "            google.colab.kernel.accessAllowed ? 'block' : 'none';\n",
              "        })();\n",
              "      </script>\n",
              "    </div>\n",
              "\n",
              "  <div id=\"id_fecf2866-d1a6-4a70-8491-8e9f5a6aa962\">\n",
              "    <style>\n",
              "      .colab-df-generate {\n",
              "        background-color: #E8F0FE;\n",
              "        border: none;\n",
              "        border-radius: 50%;\n",
              "        cursor: pointer;\n",
              "        display: none;\n",
              "        fill: #1967D2;\n",
              "        height: 32px;\n",
              "        padding: 0 0 0 0;\n",
              "        width: 32px;\n",
              "      }\n",
              "\n",
              "      .colab-df-generate:hover {\n",
              "        background-color: #E2EBFA;\n",
              "        box-shadow: 0px 1px 2px rgba(60, 64, 67, 0.3), 0px 1px 3px 1px rgba(60, 64, 67, 0.15);\n",
              "        fill: #174EA6;\n",
              "      }\n",
              "\n",
              "      [theme=dark] .colab-df-generate {\n",
              "        background-color: #3B4455;\n",
              "        fill: #D2E3FC;\n",
              "      }\n",
              "\n",
              "      [theme=dark] .colab-df-generate:hover {\n",
              "        background-color: #434B5C;\n",
              "        box-shadow: 0px 1px 3px 1px rgba(0, 0, 0, 0.15);\n",
              "        filter: drop-shadow(0px 1px 2px rgba(0, 0, 0, 0.3));\n",
              "        fill: #FFFFFF;\n",
              "      }\n",
              "    </style>\n",
              "    <button class=\"colab-df-generate\" onclick=\"generateWithVariable('df_country1_head')\"\n",
              "            title=\"Generate code using this dataframe.\"\n",
              "            style=\"display:none;\">\n",
              "\n",
              "  <svg xmlns=\"http://www.w3.org/2000/svg\" height=\"24px\"viewBox=\"0 0 24 24\"\n",
              "       width=\"24px\">\n",
              "    <path d=\"M7,19H8.4L18.45,9,17,7.55,7,17.6ZM5,21V16.75L18.45,3.32a2,2,0,0,1,2.83,0l1.4,1.43a1.91,1.91,0,0,1,.58,1.4,1.91,1.91,0,0,1-.58,1.4L9.25,21ZM18.45,9,17,7.55Zm-12,3A5.31,5.31,0,0,0,4.9,8.1,5.31,5.31,0,0,0,1,6.5,5.31,5.31,0,0,0,4.9,4.9,5.31,5.31,0,0,0,6.5,1,5.31,5.31,0,0,0,8.1,4.9,5.31,5.31,0,0,0,12,6.5,5.46,5.46,0,0,0,6.5,12Z\"/>\n",
              "  </svg>\n",
              "    </button>\n",
              "    <script>\n",
              "      (() => {\n",
              "      const buttonEl =\n",
              "        document.querySelector('#id_fecf2866-d1a6-4a70-8491-8e9f5a6aa962 button.colab-df-generate');\n",
              "      buttonEl.style.display =\n",
              "        google.colab.kernel.accessAllowed ? 'block' : 'none';\n",
              "\n",
              "      buttonEl.onclick = () => {\n",
              "        google.colab.notebook.generateWithVariable('df_country1_head');\n",
              "      }\n",
              "      })();\n",
              "    </script>\n",
              "  </div>\n",
              "\n",
              "    </div>\n",
              "  </div>\n"
            ],
            "application/vnd.google.colaboratory.intrinsic+json": {
              "type": "dataframe",
              "variable_name": "df_country1_head",
              "repr_error": "0"
            }
          },
          "metadata": {}
        },
        {
          "output_type": "display_data",
          "data": {
            "text/plain": [
              "                date  prcp  tavg  tmax  tmin country\n",
              "16   19800101 000000   0.0  61.0  94.0  46.0   Egypt\n",
              "30   19800102 000000   0.0  59.0  72.0  45.0   Egypt\n",
              "71   19800103 000000   0.0  62.0  73.0  45.0   Egypt\n",
              "78   19800104 000000   0.0  56.0  64.0  69.5   Egypt\n",
              "112  19800105 000000   0.0  57.0  66.0  46.0   Egypt"
            ],
            "text/html": [
              "\n",
              "  <div id=\"df-ae226b19-19c5-42f2-83ba-9b960dcf4b56\" class=\"colab-df-container\">\n",
              "    <div>\n",
              "<style scoped>\n",
              "    .dataframe tbody tr th:only-of-type {\n",
              "        vertical-align: middle;\n",
              "    }\n",
              "\n",
              "    .dataframe tbody tr th {\n",
              "        vertical-align: top;\n",
              "    }\n",
              "\n",
              "    .dataframe thead th {\n",
              "        text-align: right;\n",
              "    }\n",
              "</style>\n",
              "<table border=\"1\" class=\"dataframe\">\n",
              "  <thead>\n",
              "    <tr style=\"text-align: right;\">\n",
              "      <th></th>\n",
              "      <th>date</th>\n",
              "      <th>prcp</th>\n",
              "      <th>tavg</th>\n",
              "      <th>tmax</th>\n",
              "      <th>tmin</th>\n",
              "      <th>country</th>\n",
              "    </tr>\n",
              "  </thead>\n",
              "  <tbody>\n",
              "    <tr>\n",
              "      <th>16</th>\n",
              "      <td>19800101 000000</td>\n",
              "      <td>0.0</td>\n",
              "      <td>61.0</td>\n",
              "      <td>94.0</td>\n",
              "      <td>46.0</td>\n",
              "      <td>Egypt</td>\n",
              "    </tr>\n",
              "    <tr>\n",
              "      <th>30</th>\n",
              "      <td>19800102 000000</td>\n",
              "      <td>0.0</td>\n",
              "      <td>59.0</td>\n",
              "      <td>72.0</td>\n",
              "      <td>45.0</td>\n",
              "      <td>Egypt</td>\n",
              "    </tr>\n",
              "    <tr>\n",
              "      <th>71</th>\n",
              "      <td>19800103 000000</td>\n",
              "      <td>0.0</td>\n",
              "      <td>62.0</td>\n",
              "      <td>73.0</td>\n",
              "      <td>45.0</td>\n",
              "      <td>Egypt</td>\n",
              "    </tr>\n",
              "    <tr>\n",
              "      <th>78</th>\n",
              "      <td>19800104 000000</td>\n",
              "      <td>0.0</td>\n",
              "      <td>56.0</td>\n",
              "      <td>64.0</td>\n",
              "      <td>69.5</td>\n",
              "      <td>Egypt</td>\n",
              "    </tr>\n",
              "    <tr>\n",
              "      <th>112</th>\n",
              "      <td>19800105 000000</td>\n",
              "      <td>0.0</td>\n",
              "      <td>57.0</td>\n",
              "      <td>66.0</td>\n",
              "      <td>46.0</td>\n",
              "      <td>Egypt</td>\n",
              "    </tr>\n",
              "  </tbody>\n",
              "</table>\n",
              "</div>\n",
              "    <div class=\"colab-df-buttons\">\n",
              "\n",
              "  <div class=\"colab-df-container\">\n",
              "    <button class=\"colab-df-convert\" onclick=\"convertToInteractive('df-ae226b19-19c5-42f2-83ba-9b960dcf4b56')\"\n",
              "            title=\"Convert this dataframe to an interactive table.\"\n",
              "            style=\"display:none;\">\n",
              "\n",
              "  <svg xmlns=\"http://www.w3.org/2000/svg\" height=\"24px\" viewBox=\"0 -960 960 960\">\n",
              "    <path d=\"M120-120v-720h720v720H120Zm60-500h600v-160H180v160Zm220 220h160v-160H400v160Zm0 220h160v-160H400v160ZM180-400h160v-160H180v160Zm440 0h160v-160H620v160ZM180-180h160v-160H180v160Zm440 0h160v-160H620v160Z\"/>\n",
              "  </svg>\n",
              "    </button>\n",
              "\n",
              "  <style>\n",
              "    .colab-df-container {\n",
              "      display:flex;\n",
              "      gap: 12px;\n",
              "    }\n",
              "\n",
              "    .colab-df-convert {\n",
              "      background-color: #E8F0FE;\n",
              "      border: none;\n",
              "      border-radius: 50%;\n",
              "      cursor: pointer;\n",
              "      display: none;\n",
              "      fill: #1967D2;\n",
              "      height: 32px;\n",
              "      padding: 0 0 0 0;\n",
              "      width: 32px;\n",
              "    }\n",
              "\n",
              "    .colab-df-convert:hover {\n",
              "      background-color: #E2EBFA;\n",
              "      box-shadow: 0px 1px 2px rgba(60, 64, 67, 0.3), 0px 1px 3px 1px rgba(60, 64, 67, 0.15);\n",
              "      fill: #174EA6;\n",
              "    }\n",
              "\n",
              "    .colab-df-buttons div {\n",
              "      margin-bottom: 4px;\n",
              "    }\n",
              "\n",
              "    [theme=dark] .colab-df-convert {\n",
              "      background-color: #3B4455;\n",
              "      fill: #D2E3FC;\n",
              "    }\n",
              "\n",
              "    [theme=dark] .colab-df-convert:hover {\n",
              "      background-color: #434B5C;\n",
              "      box-shadow: 0px 1px 3px 1px rgba(0, 0, 0, 0.15);\n",
              "      filter: drop-shadow(0px 1px 2px rgba(0, 0, 0, 0.3));\n",
              "      fill: #FFFFFF;\n",
              "    }\n",
              "  </style>\n",
              "\n",
              "    <script>\n",
              "      const buttonEl =\n",
              "        document.querySelector('#df-ae226b19-19c5-42f2-83ba-9b960dcf4b56 button.colab-df-convert');\n",
              "      buttonEl.style.display =\n",
              "        google.colab.kernel.accessAllowed ? 'block' : 'none';\n",
              "\n",
              "      async function convertToInteractive(key) {\n",
              "        const element = document.querySelector('#df-ae226b19-19c5-42f2-83ba-9b960dcf4b56');\n",
              "        const dataTable =\n",
              "          await google.colab.kernel.invokeFunction('convertToInteractive',\n",
              "                                                    [key], {});\n",
              "        if (!dataTable) return;\n",
              "\n",
              "        const docLinkHtml = 'Like what you see? Visit the ' +\n",
              "          '<a target=\"_blank\" href=https://colab.research.google.com/notebooks/data_table.ipynb>data table notebook</a>'\n",
              "          + ' to learn more about interactive tables.';\n",
              "        element.innerHTML = '';\n",
              "        dataTable['output_type'] = 'display_data';\n",
              "        await google.colab.output.renderOutput(dataTable, element);\n",
              "        const docLink = document.createElement('div');\n",
              "        docLink.innerHTML = docLinkHtml;\n",
              "        element.appendChild(docLink);\n",
              "      }\n",
              "    </script>\n",
              "  </div>\n",
              "\n",
              "\n",
              "    <div id=\"df-d45588ac-0d28-4720-bf1b-dc634e23fcf0\">\n",
              "      <button class=\"colab-df-quickchart\" onclick=\"quickchart('df-d45588ac-0d28-4720-bf1b-dc634e23fcf0')\"\n",
              "                title=\"Suggest charts\"\n",
              "                style=\"display:none;\">\n",
              "\n",
              "<svg xmlns=\"http://www.w3.org/2000/svg\" height=\"24px\"viewBox=\"0 0 24 24\"\n",
              "     width=\"24px\">\n",
              "    <g>\n",
              "        <path d=\"M19 3H5c-1.1 0-2 .9-2 2v14c0 1.1.9 2 2 2h14c1.1 0 2-.9 2-2V5c0-1.1-.9-2-2-2zM9 17H7v-7h2v7zm4 0h-2V7h2v10zm4 0h-2v-4h2v4z\"/>\n",
              "    </g>\n",
              "</svg>\n",
              "      </button>\n",
              "\n",
              "<style>\n",
              "  .colab-df-quickchart {\n",
              "      --bg-color: #E8F0FE;\n",
              "      --fill-color: #1967D2;\n",
              "      --hover-bg-color: #E2EBFA;\n",
              "      --hover-fill-color: #174EA6;\n",
              "      --disabled-fill-color: #AAA;\n",
              "      --disabled-bg-color: #DDD;\n",
              "  }\n",
              "\n",
              "  [theme=dark] .colab-df-quickchart {\n",
              "      --bg-color: #3B4455;\n",
              "      --fill-color: #D2E3FC;\n",
              "      --hover-bg-color: #434B5C;\n",
              "      --hover-fill-color: #FFFFFF;\n",
              "      --disabled-bg-color: #3B4455;\n",
              "      --disabled-fill-color: #666;\n",
              "  }\n",
              "\n",
              "  .colab-df-quickchart {\n",
              "    background-color: var(--bg-color);\n",
              "    border: none;\n",
              "    border-radius: 50%;\n",
              "    cursor: pointer;\n",
              "    display: none;\n",
              "    fill: var(--fill-color);\n",
              "    height: 32px;\n",
              "    padding: 0;\n",
              "    width: 32px;\n",
              "  }\n",
              "\n",
              "  .colab-df-quickchart:hover {\n",
              "    background-color: var(--hover-bg-color);\n",
              "    box-shadow: 0 1px 2px rgba(60, 64, 67, 0.3), 0 1px 3px 1px rgba(60, 64, 67, 0.15);\n",
              "    fill: var(--button-hover-fill-color);\n",
              "  }\n",
              "\n",
              "  .colab-df-quickchart-complete:disabled,\n",
              "  .colab-df-quickchart-complete:disabled:hover {\n",
              "    background-color: var(--disabled-bg-color);\n",
              "    fill: var(--disabled-fill-color);\n",
              "    box-shadow: none;\n",
              "  }\n",
              "\n",
              "  .colab-df-spinner {\n",
              "    border: 2px solid var(--fill-color);\n",
              "    border-color: transparent;\n",
              "    border-bottom-color: var(--fill-color);\n",
              "    animation:\n",
              "      spin 1s steps(1) infinite;\n",
              "  }\n",
              "\n",
              "  @keyframes spin {\n",
              "    0% {\n",
              "      border-color: transparent;\n",
              "      border-bottom-color: var(--fill-color);\n",
              "      border-left-color: var(--fill-color);\n",
              "    }\n",
              "    20% {\n",
              "      border-color: transparent;\n",
              "      border-left-color: var(--fill-color);\n",
              "      border-top-color: var(--fill-color);\n",
              "    }\n",
              "    30% {\n",
              "      border-color: transparent;\n",
              "      border-left-color: var(--fill-color);\n",
              "      border-top-color: var(--fill-color);\n",
              "      border-right-color: var(--fill-color);\n",
              "    }\n",
              "    40% {\n",
              "      border-color: transparent;\n",
              "      border-right-color: var(--fill-color);\n",
              "      border-top-color: var(--fill-color);\n",
              "    }\n",
              "    60% {\n",
              "      border-color: transparent;\n",
              "      border-right-color: var(--fill-color);\n",
              "    }\n",
              "    80% {\n",
              "      border-color: transparent;\n",
              "      border-right-color: var(--fill-color);\n",
              "      border-bottom-color: var(--fill-color);\n",
              "    }\n",
              "    90% {\n",
              "      border-color: transparent;\n",
              "      border-bottom-color: var(--fill-color);\n",
              "    }\n",
              "  }\n",
              "</style>\n",
              "\n",
              "      <script>\n",
              "        async function quickchart(key) {\n",
              "          const quickchartButtonEl =\n",
              "            document.querySelector('#' + key + ' button');\n",
              "          quickchartButtonEl.disabled = true;  // To prevent multiple clicks.\n",
              "          quickchartButtonEl.classList.add('colab-df-spinner');\n",
              "          try {\n",
              "            const charts = await google.colab.kernel.invokeFunction(\n",
              "                'suggestCharts', [key], {});\n",
              "          } catch (error) {\n",
              "            console.error('Error during call to suggestCharts:', error);\n",
              "          }\n",
              "          quickchartButtonEl.classList.remove('colab-df-spinner');\n",
              "          quickchartButtonEl.classList.add('colab-df-quickchart-complete');\n",
              "        }\n",
              "        (() => {\n",
              "          let quickchartButtonEl =\n",
              "            document.querySelector('#df-d45588ac-0d28-4720-bf1b-dc634e23fcf0 button');\n",
              "          quickchartButtonEl.style.display =\n",
              "            google.colab.kernel.accessAllowed ? 'block' : 'none';\n",
              "        })();\n",
              "      </script>\n",
              "    </div>\n",
              "\n",
              "  <div id=\"id_cf375ea6-fa61-45b3-acbd-10aa8eb342ba\">\n",
              "    <style>\n",
              "      .colab-df-generate {\n",
              "        background-color: #E8F0FE;\n",
              "        border: none;\n",
              "        border-radius: 50%;\n",
              "        cursor: pointer;\n",
              "        display: none;\n",
              "        fill: #1967D2;\n",
              "        height: 32px;\n",
              "        padding: 0 0 0 0;\n",
              "        width: 32px;\n",
              "      }\n",
              "\n",
              "      .colab-df-generate:hover {\n",
              "        background-color: #E2EBFA;\n",
              "        box-shadow: 0px 1px 2px rgba(60, 64, 67, 0.3), 0px 1px 3px 1px rgba(60, 64, 67, 0.15);\n",
              "        fill: #174EA6;\n",
              "      }\n",
              "\n",
              "      [theme=dark] .colab-df-generate {\n",
              "        background-color: #3B4455;\n",
              "        fill: #D2E3FC;\n",
              "      }\n",
              "\n",
              "      [theme=dark] .colab-df-generate:hover {\n",
              "        background-color: #434B5C;\n",
              "        box-shadow: 0px 1px 3px 1px rgba(0, 0, 0, 0.15);\n",
              "        filter: drop-shadow(0px 1px 2px rgba(0, 0, 0, 0.3));\n",
              "        fill: #FFFFFF;\n",
              "      }\n",
              "    </style>\n",
              "    <button class=\"colab-df-generate\" onclick=\"generateWithVariable('df_country2_head')\"\n",
              "            title=\"Generate code using this dataframe.\"\n",
              "            style=\"display:none;\">\n",
              "\n",
              "  <svg xmlns=\"http://www.w3.org/2000/svg\" height=\"24px\"viewBox=\"0 0 24 24\"\n",
              "       width=\"24px\">\n",
              "    <path d=\"M7,19H8.4L18.45,9,17,7.55,7,17.6ZM5,21V16.75L18.45,3.32a2,2,0,0,1,2.83,0l1.4,1.43a1.91,1.91,0,0,1,.58,1.4,1.91,1.91,0,0,1-.58,1.4L9.25,21ZM18.45,9,17,7.55Zm-12,3A5.31,5.31,0,0,0,4.9,8.1,5.31,5.31,0,0,0,1,6.5,5.31,5.31,0,0,0,4.9,4.9,5.31,5.31,0,0,0,6.5,1,5.31,5.31,0,0,0,8.1,4.9,5.31,5.31,0,0,0,12,6.5,5.46,5.46,0,0,0,6.5,12Z\"/>\n",
              "  </svg>\n",
              "    </button>\n",
              "    <script>\n",
              "      (() => {\n",
              "      const buttonEl =\n",
              "        document.querySelector('#id_cf375ea6-fa61-45b3-acbd-10aa8eb342ba button.colab-df-generate');\n",
              "      buttonEl.style.display =\n",
              "        google.colab.kernel.accessAllowed ? 'block' : 'none';\n",
              "\n",
              "      buttonEl.onclick = () => {\n",
              "        google.colab.notebook.generateWithVariable('df_country2_head');\n",
              "      }\n",
              "      })();\n",
              "    </script>\n",
              "  </div>\n",
              "\n",
              "    </div>\n",
              "  </div>\n"
            ],
            "application/vnd.google.colaboratory.intrinsic+json": {
              "type": "dataframe",
              "variable_name": "df_country2_head",
              "repr_error": "0"
            }
          },
          "metadata": {}
        }
      ]
    },
    {
      "cell_type": "code",
      "source": [
        "# Coverting NaN to numbers per country\n",
        "df[\"prcp\"].fillna(df.groupby(\"country\")[\"prcp\"].transform(\"mean\"), inplace=True)\n",
        "df[\"tavg\"].fillna(df.groupby(\"country\")[\"tavg\"].transform(\"mean\"), inplace=True)\n",
        "df[\"tmax\"].fillna(df.groupby(\"country\")[\"tmax\"].transform(\"mean\"), inplace=True)\n",
        "df[\"tmin\"].fillna(df.groupby(\"country\")[\"tmin\"].transform(\"mean\"), inplace=True)\n"
      ],
      "metadata": {
        "id": "_St1Uxn_PtLZ",
        "colab": {
          "base_uri": "https://localhost:8080/"
        },
        "collapsed": true,
        "outputId": "6076fd40-2e44-4d50-921e-de72e882fb62"
      },
      "execution_count": 111,
      "outputs": [
        {
          "output_type": "stream",
          "name": "stderr",
          "text": [
            "<ipython-input-111-7ca9b356b28f>:2: FutureWarning: A value is trying to be set on a copy of a DataFrame or Series through chained assignment using an inplace method.\n",
            "The behavior will change in pandas 3.0. This inplace method will never work because the intermediate object on which we are setting values always behaves as a copy.\n",
            "\n",
            "For example, when doing 'df[col].method(value, inplace=True)', try using 'df.method({col: value}, inplace=True)' or df[col] = df[col].method(value) instead, to perform the operation inplace on the original object.\n",
            "\n",
            "\n",
            "  df[\"prcp\"].fillna(df.groupby(\"country\")[\"prcp\"].transform(\"mean\"), inplace=True)\n",
            "<ipython-input-111-7ca9b356b28f>:3: FutureWarning: A value is trying to be set on a copy of a DataFrame or Series through chained assignment using an inplace method.\n",
            "The behavior will change in pandas 3.0. This inplace method will never work because the intermediate object on which we are setting values always behaves as a copy.\n",
            "\n",
            "For example, when doing 'df[col].method(value, inplace=True)', try using 'df.method({col: value}, inplace=True)' or df[col] = df[col].method(value) instead, to perform the operation inplace on the original object.\n",
            "\n",
            "\n",
            "  df[\"tavg\"].fillna(df.groupby(\"country\")[\"tavg\"].transform(\"mean\"), inplace=True)\n",
            "<ipython-input-111-7ca9b356b28f>:4: FutureWarning: A value is trying to be set on a copy of a DataFrame or Series through chained assignment using an inplace method.\n",
            "The behavior will change in pandas 3.0. This inplace method will never work because the intermediate object on which we are setting values always behaves as a copy.\n",
            "\n",
            "For example, when doing 'df[col].method(value, inplace=True)', try using 'df.method({col: value}, inplace=True)' or df[col] = df[col].method(value) instead, to perform the operation inplace on the original object.\n",
            "\n",
            "\n",
            "  df[\"tmax\"].fillna(df.groupby(\"country\")[\"tmax\"].transform(\"mean\"), inplace=True)\n",
            "<ipython-input-111-7ca9b356b28f>:5: FutureWarning: A value is trying to be set on a copy of a DataFrame or Series through chained assignment using an inplace method.\n",
            "The behavior will change in pandas 3.0. This inplace method will never work because the intermediate object on which we are setting values always behaves as a copy.\n",
            "\n",
            "For example, when doing 'df[col].method(value, inplace=True)', try using 'df.method({col: value}, inplace=True)' or df[col] = df[col].method(value) instead, to perform the operation inplace on the original object.\n",
            "\n",
            "\n",
            "  df[\"tmin\"].fillna(df.groupby(\"country\")[\"tmin\"].transform(\"mean\"), inplace=True)\n"
          ]
        }
      ]
    },
    {
      "cell_type": "code",
      "source": [
        "df.isnull().sum()"
      ],
      "metadata": {
        "id": "gBwDQuJePs8b",
        "colab": {
          "base_uri": "https://localhost:8080/",
          "height": 272
        },
        "collapsed": true,
        "outputId": "97894166-7a25-44b5-fa91-bfbdfe7a831b"
      },
      "execution_count": 112,
      "outputs": [
        {
          "output_type": "execute_result",
          "data": {
            "text/plain": [
              "date       0\n",
              "prcp       0\n",
              "tavg       0\n",
              "tmax       0\n",
              "tmin       0\n",
              "country    0\n",
              "dtype: int64"
            ],
            "text/html": [
              "<div>\n",
              "<style scoped>\n",
              "    .dataframe tbody tr th:only-of-type {\n",
              "        vertical-align: middle;\n",
              "    }\n",
              "\n",
              "    .dataframe tbody tr th {\n",
              "        vertical-align: top;\n",
              "    }\n",
              "\n",
              "    .dataframe thead th {\n",
              "        text-align: right;\n",
              "    }\n",
              "</style>\n",
              "<table border=\"1\" class=\"dataframe\">\n",
              "  <thead>\n",
              "    <tr style=\"text-align: right;\">\n",
              "      <th></th>\n",
              "      <th>0</th>\n",
              "    </tr>\n",
              "  </thead>\n",
              "  <tbody>\n",
              "    <tr>\n",
              "      <th>date</th>\n",
              "      <td>0</td>\n",
              "    </tr>\n",
              "    <tr>\n",
              "      <th>prcp</th>\n",
              "      <td>0</td>\n",
              "    </tr>\n",
              "    <tr>\n",
              "      <th>tavg</th>\n",
              "      <td>0</td>\n",
              "    </tr>\n",
              "    <tr>\n",
              "      <th>tmax</th>\n",
              "      <td>0</td>\n",
              "    </tr>\n",
              "    <tr>\n",
              "      <th>tmin</th>\n",
              "      <td>0</td>\n",
              "    </tr>\n",
              "    <tr>\n",
              "      <th>country</th>\n",
              "      <td>0</td>\n",
              "    </tr>\n",
              "  </tbody>\n",
              "</table>\n",
              "</div><br><label><b>dtype:</b> int64</label>"
            ]
          },
          "metadata": {},
          "execution_count": 112
        }
      ]
    },
    {
      "cell_type": "markdown",
      "source": [
        "### 3. Plot a line chart to show the average temperature fluctuations in Tunisia and Cameroon.Interpret the results."
      ],
      "metadata": {
        "id": "eF-91O0EqtkO"
      }
    },
    {
      "cell_type": "code",
      "source": [
        "# convert date field to date formart\n",
        "df[\"date\"] = df[\"date\"].replace(\"000000\", np.nan)\n",
        "\n",
        "# Handle unexpected formats properly\n",
        "df[\"date\"] = pd.to_datetime(df[\"date\"], format=\"%Y%m%d\", errors=\"coerce\")\n",
        "print(df.info())\n",
        "\n",
        "df[\"date\"] = df[\"date\"].replace(\"000000\", np.nan)\n",
        "df[\"date\"] = pd.to_datetime(df[\"date\"], errors=\"coerce\")\n",
        "df = df.dropna(subset=[\"date\"])"
      ],
      "metadata": {
        "colab": {
          "base_uri": "https://localhost:8080/"
        },
        "collapsed": true,
        "id": "WiBxacgzs50n",
        "outputId": "5aa878ca-6516-4171-9fe8-38cd6f6f999e"
      },
      "execution_count": 113,
      "outputs": [
        {
          "output_type": "stream",
          "name": "stdout",
          "text": [
            "<class 'pandas.core.frame.DataFrame'>\n",
            "Index: 70823 entries, 20 to 464799\n",
            "Data columns (total 6 columns):\n",
            " #   Column   Non-Null Count  Dtype         \n",
            "---  ------   --------------  -----         \n",
            " 0   date     0 non-null      datetime64[ns]\n",
            " 1   prcp     70823 non-null  float64       \n",
            " 2   tavg     70823 non-null  float64       \n",
            " 3   tmax     70823 non-null  float64       \n",
            " 4   tmin     70823 non-null  float64       \n",
            " 5   country  70823 non-null  object        \n",
            "dtypes: datetime64[ns](1), float64(4), object(1)\n",
            "memory usage: 3.8+ MB\n",
            "None\n"
          ]
        }
      ]
    },
    {
      "cell_type": "code",
      "source": [
        "# Filter dataset for Tunisia & Cameroon\n",
        "df_filtered = df[df[\"country\"].isin([\"Tunisia\", \"Cameroon\"])]\n",
        "\n",
        "# Convert date column to datetime format (if needed)\n",
        "df_filtered.loc[:, \"date\"] = pd.to_datetime(df_filtered[\"date\"], format=\"%Y%m%d\")\n",
        "\n",
        "\n",
        "# Group by date & country, then calculate mean temperature\n",
        "df_grouped = df_filtered.groupby([\"date\", \"country\"])[\"tavg\"].mean().reset_index()\n",
        "df_grouped[\"date\"] = pd.to_datetime(df_grouped[\"date\"])\n",
        "df_grouped[\"tavg\"].fillna(df_grouped[\"tavg\"].mean(), inplace=True)"
      ],
      "metadata": {
        "colab": {
          "base_uri": "https://localhost:8080/"
        },
        "collapsed": true,
        "id": "0QMYzt98sfx4",
        "outputId": "19bbc965-e6e0-4af9-de40-f4a6a05fb57a"
      },
      "execution_count": 114,
      "outputs": [
        {
          "output_type": "stream",
          "name": "stderr",
          "text": [
            "<ipython-input-114-4c83743daa25>:11: FutureWarning: A value is trying to be set on a copy of a DataFrame or Series through chained assignment using an inplace method.\n",
            "The behavior will change in pandas 3.0. This inplace method will never work because the intermediate object on which we are setting values always behaves as a copy.\n",
            "\n",
            "For example, when doing 'df[col].method(value, inplace=True)', try using 'df.method({col: value}, inplace=True)' or df[col] = df[col].method(value) instead, to perform the operation inplace on the original object.\n",
            "\n",
            "\n",
            "  df_grouped[\"tavg\"].fillna(df_grouped[\"tavg\"].mean(), inplace=True)\n"
          ]
        }
      ]
    },
    {
      "cell_type": "code",
      "source": [
        "df_grouped.loc[:, \"tavg\"] = df_grouped[\"tavg\"].fillna(df_grouped[\"tavg\"].mean())\n"
      ],
      "metadata": {
        "id": "c5kkNPFSwHj3"
      },
      "execution_count": 115,
      "outputs": []
    },
    {
      "cell_type": "code",
      "source": [
        "import matplotlib.pyplot as plt\n",
        "\n",
        "# Initialize the figure correctly\n",
        "plt.figure(figsize=(12, 6))\n",
        "\n",
        "# Loop through each country and plot temperature trends\n",
        "for country in [\"Tunisia\", \"Cameroon\"]:\n",
        "    subset = df_grouped[df_grouped[\"country\"] == country]\n",
        "    plt.plot(subset[\"date\"], subset[\"tavg\"], label=country)\n",
        "\n",
        "# Customize the chart\n",
        "plt.xlabel(\"Date\")\n",
        "plt.ylabel(\"Average Temperature (°C)\")\n",
        "plt.title(\"Temperature Fluctuations in Tunisia & Cameroon\")\n",
        "plt.legend()\n",
        "plt.xticks(rotation=45)\n",
        "plt.grid(True)\n",
        "\n",
        "# Show the plot\n",
        "plt.show()\n"
      ],
      "metadata": {
        "colab": {
          "base_uri": "https://localhost:8080/",
          "height": 479
        },
        "collapsed": true,
        "id": "MTmhieHxtAZz",
        "outputId": "e0d17325-b6b6-4497-a61b-a1e005baf2be"
      },
      "execution_count": 120,
      "outputs": [
        {
          "output_type": "display_data",
          "data": {
            "text/plain": [
              "<Figure size 1200x600 with 1 Axes>"
            ],
            "image/png": "[encoded data removed]"
          },
          "metadata": {}
        }
      ]
    },
    {
      "cell_type": "markdown",
      "source": [
        "## 4. Zoom in to only include data between 1980 and 2005, try to customize the axes labels."
      ],
      "metadata": {
        "id": "JTiHa5zZzUkM"
      }
    },
    {
      "cell_type": "code",
      "source": [
        "df_filtered = df[(df[\"date\"] >= \"1980-01-01\") & (df[\"date\"] <= \"2005-12-31\")]\n"
      ],
      "metadata": {
        "collapsed": true,
        "id": "gOKkwHw9tCin"
      },
      "execution_count": 122,
      "outputs": []
    },
    {
      "cell_type": "code",
      "source": [
        "import matplotlib.pyplot as plt\n",
        "\n",
        "plt.figure(figsize=(12, 6))\n",
        "\n",
        "# Plot trends for Tunisia & Cameroon\n",
        "for country in [\"Tunisia\", \"Cameroon\"]:\n",
        "    subset = df_filtered[df_filtered[\"country\"] == country]\n",
        "    plt.plot(subset[\"date\"], subset[\"tavg\"], label=country)\n",
        "\n",
        "# Customize the axis labels & title\n",
        "plt.xlabel(\"Year\", fontsize=14, fontweight=\"bold\")  # Custom x-axis label\n",
        "plt.ylabel(\"Average Temperature (°C)\", fontsize=14, fontweight=\"bold\")  # Custom y-axis label\n",
        "plt.title(\"Temperature Trends (1980-2005) in Tunisia & Cameroon\", fontsize=16, fontweight=\"bold\")\n",
        "\n",
        "# Improve visualization\n",
        "plt.xticks(rotation=45)  # Rotate x-axis labels for readability\n",
        "plt.grid(True, linestyle=\"--\", alpha=0.6)  # Soft grid lines\n",
        "plt.legend(fontsize=12)\n",
        "\n",
        "# Show the plot\n",
        "plt.show()\n"
      ],
      "metadata": {
        "colab": {
          "base_uri": "https://localhost:8080/",
          "height": 482
        },
        "collapsed": true,
        "id": "-2y9rA8hxgco",
        "outputId": "52d6b994-b22f-46c5-b50c-f0b49a726b40"
      },
      "execution_count": 123,
      "outputs": [
        {
          "output_type": "display_data",
          "data": {
            "text/plain": [
              "<Figure size 1200x600 with 1 Axes>"
            ],
            "image/png": "[encoded data removed]"
          },
          "metadata": {}
        }
      ]
    },
    {
      "cell_type": "markdown",
      "source": [
        "## 5. Create Histograms to show temperature distribution in Senegal between [1980,2000] and  [2000,2023] (in the same figure). Describe the obtained results."
      ],
      "metadata": {
        "id": "FeCbZf0v0FuY"
      }
    },
    {
      "cell_type": "code",
      "source": [
        "df_senegal = df[df[\"country\"] == \"Senegal\"]  # Filter Senegal data\n",
        "\n",
        "# Convert date column to datetime format\n",
        "df_senegal[\"date\"] = pd.to_datetime(df_senegal[\"date\"], errors=\"coerce\")\n",
        "\n",
        "# Filter two time periods\n",
        "df_1980_2000 = df_senegal[(df_senegal[\"date\"] >= \"1980-01-01\") & (df_senegal[\"date\"] <= \"2000-12-31\")]\n",
        "df_2000_2023 = df_senegal[(df_senegal[\"date\"] >= \"2000-01-01\") & (df_senegal[\"date\"] <= \"2023-12-31\")]\n"
      ],
      "metadata": {
        "id": "1KbW4gtR0OXg"
      },
      "execution_count": 124,
      "outputs": []
    },
    {
      "cell_type": "code",
      "source": [
        "import matplotlib.pyplot as plt\n",
        "\n",
        "plt.figure(figsize=(12, 6))\n",
        "\n",
        "# Plot histogram for 1980-2000\n",
        "plt.hist(df_1980_2000[\"tavg\"], bins=30, alpha=0.6, color=\"blue\", label=\"1980-2000\")\n",
        "\n",
        "# Plot histogram for 2000-2023\n",
        "plt.hist(df_2000_2023[\"tavg\"], bins=30, alpha=0.6, color=\"red\", label=\"2000-2023\")\n",
        "\n",
        "# Customize the chart\n",
        "plt.xlabel(\"Average Temperature (°C)\", fontsize=14, fontweight=\"bold\")\n",
        "plt.ylabel(\"Frequency\", fontsize=14, fontweight=\"bold\")\n",
        "plt.title(\"Temperature Distribution in Senegal (1980-2000 vs. 2000-2023)\", fontsize=16, fontweight=\"bold\")\n",
        "plt.legend()\n",
        "plt.grid(True, linestyle=\"--\", alpha=0.6)\n",
        "\n",
        "# Show the plot\n",
        "plt.show()\n"
      ],
      "metadata": {
        "colab": {
          "base_uri": "https://localhost:8080/",
          "height": 450
        },
        "collapsed": true,
        "id": "wNWDgdP10WLP",
        "outputId": "a4864d39-994d-49c2-c290-aeef8ddb4e84"
      },
      "execution_count": 125,
      "outputs": [
        {
          "output_type": "display_data",
          "data": {
            "text/plain": [
              "<Figure size 1200x600 with 1 Axes>"
            ],
            "image/png": "[encoded data removed]"
          },
          "metadata": {}
        }
      ]
    },
    {
      "cell_type": "markdown",
      "source": [
        "## 6. Select the best chart to show the Average temperature per country."
      ],
      "metadata": {
        "id": "BCGU7ugf0i0R"
      }
    },
    {
      "cell_type": "markdown",
      "source": [
        "Bar Charts will best show or compare average temperatures across the countries.\n",
        "\n",
        "Sinces it shows precise temperature values with clear bar heights creates for better view and better results."
      ],
      "metadata": {
        "id": "2_rQUqo01UHs"
      }
    },
    {
      "cell_type": "markdown",
      "source": [
        "## 7. Make your own questions about the dataset and try to answer them using the appropriate visuals.\n",
        "\n",
        "*(i) Does temperature affect rain fall*\n"
      ],
      "metadata": {
        "id": "nr-buqZF2RAR"
      }
    },
    {
      "cell_type": "code",
      "source": [],
      "metadata": {
        "id": "wV1HAM5o0k5W"
      },
      "execution_count": null,
      "outputs": []
    }
  ]
}