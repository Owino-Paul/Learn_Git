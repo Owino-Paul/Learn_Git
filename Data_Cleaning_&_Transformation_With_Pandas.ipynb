{
  "nbformat": 4,
  "nbformat_minor": 0,
  "metadata": {
    "colab": {
      "provenance": [],
      "authorship_tag": "ABX9TyNJ34lKheIUXXhM0bbm4X1t",
      "include_colab_link": true
    },
    "kernelspec": {
      "name": "python3",
      "display_name": "Python 3"
    },
    "language_info": {
      "name": "python"
    }
  },
  "cells": [
    {
      "cell_type": "markdown",
      "metadata": {
        "id": "view-in-github",
        "colab_type": "text"
      },
      "source": [
        "<a href=\"https://colab.research.google.com/github/Owino-Paul/Learn_Git/blob/master/Data_Cleaning_%26_Transformation_With_Pandas.ipynb\" target=\"_parent\"><img src=\"https://colab.research.google.com/assets/colab-badge.svg\" alt=\"Open In Colab\"/></a>"
      ]
    },
    {
      "cell_type": "code",
      "execution_count": null,
      "metadata": {
        "id": "e1A5zJH5VBRQ"
      },
      "outputs": [],
      "source": [
        "# Importing Pandas Library\n",
        "import pandas as pd\n",
        "\n"
      ]
    },
    {
      "cell_type": "markdown",
      "source": [
        "# Creatign Data Set to work with"
      ],
      "metadata": {
        "id": "DYhFwTyyjRJi"
      }
    },
    {
      "cell_type": "code",
      "source": [
        "# Creating the dataset\n",
        "data = {\n",
        "    'Name': ['John', 'Mary', 'Bob', 'Sarah', 'Tom', 'Lisa'],\n",
        "    'Department': ['IT', 'Marketing', 'Sales', 'IT', 'Finance', 'Marketing'],\n",
        "    'Age': [30, 40, 25, 35, 45, 28],\n",
        "    'Gender': ['Male', 'Female', 'Male', 'Female', 'Male', 'Female'],\n",
        "    'Salary': [50000, 60000, 45000, 55000, 70000, 55000],\n",
        "    'Experience': [3, 7, 2, 5, 10, 4]\n",
        "}\n",
        "\n",
        "# Converting the dictionary into a DataFrame\n",
        "employee_df = pd.DataFrame(data)\n",
        "\n",
        "# Displaying the DataFrame\n",
        "print(employee_df)\n"
      ],
      "metadata": {
        "colab": {
          "base_uri": "https://localhost:8080/"
        },
        "id": "0Eu1AusNiNsd",
        "outputId": "4f8b9e3f-4fab-454e-deb5-25ec49e5546e"
      },
      "execution_count": null,
      "outputs": [
        {
          "output_type": "stream",
          "name": "stdout",
          "text": [
            "    Name Department  Age  Gender  Salary  Experience\n",
            "0   John         IT   30    Male   50000           3\n",
            "1   Mary  Marketing   40  Female   60000           7\n",
            "2    Bob      Sales   25    Male   45000           2\n",
            "3  Sarah         IT   35  Female   55000           5\n",
            "4    Tom    Finance   45    Male   70000          10\n",
            "5   Lisa  Marketing   28  Female   55000           4\n"
          ]
        }
      ]
    },
    {
      "cell_type": "markdown",
      "source": [
        "## 1. Use the iloc method to select the first 3 rows of the dataframe."
      ],
      "metadata": {
        "id": "yEGuAcjBjWuw"
      }
    },
    {
      "cell_type": "code",
      "source": [
        "# Accessing first 3 rows using .iloc\n",
        "rows_to_access = employee_df.iloc[:3]\n",
        "print(rows_to_access)"
      ],
      "metadata": {
        "colab": {
          "base_uri": "https://localhost:8080/"
        },
        "id": "K0YsAnxeiNkp",
        "outputId": "b278c1d8-f9f9-48f2-b241-efb391e4896a"
      },
      "execution_count": null,
      "outputs": [
        {
          "output_type": "stream",
          "name": "stdout",
          "text": [
            "   Name Department  Age  Gender  Salary  Experience\n",
            "0  John         IT   30    Male   50000           3\n",
            "1  Mary  Marketing   40  Female   60000           7\n",
            "2   Bob      Sales   25    Male   45000           2\n"
          ]
        }
      ]
    },
    {
      "cell_type": "markdown",
      "source": [
        "## 2. Use the loc method to select all rows where the Department is \"Marketing\"."
      ],
      "metadata": {
        "id": "pl-yBRTVjsD3"
      }
    },
    {
      "cell_type": "code",
      "source": [
        "# Selecting all rows using .loc method in \"Marketing\"\n",
        "marketers = employee_df.loc[employee_df['Department'] == 'Marketing']\n",
        "print(marketers)"
      ],
      "metadata": {
        "colab": {
          "base_uri": "https://localhost:8080/"
        },
        "id": "feovz-ariJkH",
        "outputId": "49762384-44de-4da7-a49c-8f19f54980dc"
      },
      "execution_count": null,
      "outputs": [
        {
          "output_type": "stream",
          "name": "stdout",
          "text": [
            "   Name Department  Age  Gender  Salary  Experience\n",
            "1  Mary  Marketing   40  Female   60000           7\n",
            "5  Lisa  Marketing   28  Female   55000           4\n"
          ]
        }
      ]
    },
    {
      "cell_type": "markdown",
      "source": [
        "## 3. Use the iloc method to select the Age and Gender columns for the first 4 rows of the dataframe."
      ],
      "metadata": {
        "id": "2g44zyD-kQ-m"
      }
    },
    {
      "cell_type": "code",
      "source": [
        "# Selecting first 4 rows using .iloc method to select Age and Gender\n",
        "age_gender = employee_df.iloc[:4, [2, 3]]\n",
        "print(age_gender)"
      ],
      "metadata": {
        "colab": {
          "base_uri": "https://localhost:8080/"
        },
        "id": "lhSNC18Qjrq_",
        "outputId": "a19d03e4-6e9b-408e-c63f-d9a521b27d3d"
      },
      "execution_count": null,
      "outputs": [
        {
          "output_type": "stream",
          "name": "stdout",
          "text": [
            "   Age  Gender\n",
            "0   30    Male\n",
            "1   40  Female\n",
            "2   25    Male\n",
            "3   35  Female\n"
          ]
        }
      ]
    },
    {
      "cell_type": "markdown",
      "source": [
        "## 4. Use the loc method to select the Salary and Experience columns for all rows where the Gender is \"Male\"."
      ],
      "metadata": {
        "id": "QlT1ckZDkskc"
      }
    },
    {
      "cell_type": "code",
      "source": [
        "# Using .loc method to select \"salary\" and \"experience\" columns for all Males\n",
        "salary_exp = employee_df.loc[employee_df['Gender'] == 'Male', ['Salary', 'Experience', 'Gender']]\n",
        "print(salary_exp)"
      ],
      "metadata": {
        "colab": {
          "base_uri": "https://localhost:8080/"
        },
        "id": "VWIbhPBajrdv",
        "outputId": "b3ddedcc-61d4-4acd-8d34-6d4e47766901"
      },
      "execution_count": null,
      "outputs": [
        {
          "output_type": "stream",
          "name": "stdout",
          "text": [
            "   Salary  Experience Gender\n",
            "0   50000           3   Male\n",
            "2   45000           2   Male\n",
            "4   70000          10   Male\n"
          ]
        }
      ]
    },
    {
      "cell_type": "code",
      "source": [],
      "metadata": {
        "id": "zWz4puBXjrDQ"
      },
      "execution_count": null,
      "outputs": []
    }
  ]
}