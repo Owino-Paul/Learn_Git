{
  "nbformat": 4,
  "nbformat_minor": 0,
  "metadata": {
    "colab": {
      "provenance": [],
      "authorship_tag": "ABX9TyMZODXzuGfh8fFXKUUlsupN",
      "include_colab_link": true
    },
    "kernelspec": {
      "name": "python3",
      "display_name": "Python 3"
    },
    "language_info": {
      "name": "python"
    }
  },
  "cells": [
    {
      "cell_type": "markdown",
      "metadata": {
        "id": "view-in-github",
        "colab_type": "text"
      },
      "source": [
        "<a href=\"https://colab.research.google.com/github/Owino-Paul/Learn_Git/blob/master/Library_Management_System.ipynb\" target=\"_parent\"><img src=\"https://colab.research.google.com/assets/colab-badge.svg\" alt=\"Open In Colab\"/></a>"
      ]
    },
    {
      "cell_type": "code",
      "source": [
        "# Defining Book CLASS\n",
        "class Book:\n",
        "    def __init__(self, title, author, isbn, available=True):\n",
        "        self.title = title\n",
        "        self.author = author\n",
        "        self.isbn = isbn\n",
        "        self.available = available\n",
        "\n",
        "    def borrow_book(self):\n",
        "        if self.available:\n",
        "            self.available = False\n",
        "            return True\n",
        "        return False\n",
        "\n",
        "    def return_book(self):\n",
        "        if not self.available:\n",
        "            self.available = True\n",
        "            return True\n",
        "        return False\n",
        "\n",
        "    def __str__(self):\n",
        "        return f\"{self.title} by {self.author} isbn: {self.isbn} Available: {self.available})\"\n",
        "\n",
        "\n",
        "# Defining Library CLASS\n",
        "class Library:\n",
        "    def __init__(self):\n",
        "        self.books = []\n",
        "\n",
        "    def add_book(self, book):\n",
        "        self.books.append(book)\n",
        "        print(f\"Book '{book.title}' has been added to the library.\")\n",
        "\n",
        "    def borrow_book(self, isbn):\n",
        "        for book in self.books:\n",
        "            if book.isbn == isbn and book.available: # checks both ISBN and avaliabity\n",
        "                if book.borrow_book():\n",
        "                    print(f\"The Book: '{book.title}' has been borrowed.\")\n",
        "                    return\n",
        "        print(\"Book not AVAILABLE.\")\n",
        "\n",
        "    def return_book(self, isbn):\n",
        "        for book in self.books:\n",
        "            if book.isbn == isbn and not book.available: # checks bothe ISBN and availability\n",
        "                if book.return_book():\n",
        "                    print(f\"You have returned '{book.title}'.\")\n",
        "                    return\n",
        "        print(\"Book is AVAILABLE.\")\n",
        "\n",
        "    def display_books(self):\n",
        "        if not self.books:\n",
        "            print(\"Book Not AVAILABLE.\")\n",
        "        else:\n",
        "            for book in self.books:\n",
        "                print(book)\n",
        "\n",
        "\n",
        "# Create a blank library variance\n",
        "library = Library()\n",
        "\n",
        "\n"
      ],
      "metadata": {
        "id": "7wD_yy2sh9mP"
      },
      "execution_count": 6,
      "outputs": []
    },
    {
      "cell_type": "code",
      "source": [
        "# Create book instances with proper ISBNs and availability\n",
        "book1 = Book(\"Across The Bridge\", \"Mwangi Gicheru\", \"97812\", True)\n",
        "book2 = Book(\"My Life In Crime\", \"John Kiriamiti\", \"97898\", False)\n",
        "book3 = Book(\"The River Between\", \"Ngugi Wa Thiongo\", \"97298\", False)\n",
        "book4 = Book(\"Kill Me Quick\", \"Meja Mwangi\", \"97899\", False)\n",
        "book5 = Book(\"Dust\", \"Yvonne Adhiambo Owuor\", \"97808\", True)\n",
        "book6 = Book(\"Son Of A Woman\", \"Samuel Mangua\", \"97798\", False)\n",
        "book7 = Book(\"Siku Njema\", \"Ken Walibora\", \"97893\", True)\n",
        "book8 = Book(\"My Father's Head\", \"Okwiri Oduor\", \"99789\", False)\n",
        "book9 = Book(\"Coming To Birth\", \"Marjorie Oludhe Macgoye\", \"95898\", False)\n",
        "book10 = Book(\"Land Without Thunder\", \"Grace Ogot\", \"96898\", False)\n",
        "\n",
        "# Adding books to the library\n",
        "library.add_book(book1)\n",
        "library.add_book(book2)\n",
        "library.add_book(book3)\n",
        "library.add_book(book4)\n",
        "library.add_book(book5)\n",
        "library.add_book(book6)\n",
        "library.add_book(book7)\n",
        "library.add_book(book8)\n",
        "library.add_book(book9)\n",
        "library.add_book(book10)\n",
        "\n"
      ],
      "metadata": {
        "colab": {
          "base_uri": "https://localhost:8080/"
        },
        "id": "i6H-jmfew2Zj",
        "outputId": "305b730e-2ab4-42f1-e3f1-81ec0e04b884"
      },
      "execution_count": 10,
      "outputs": [
        {
          "output_type": "stream",
          "name": "stdout",
          "text": [
            "Book 'Across The Bridge' has been added to the library.\n",
            "Book 'My Life In Crime' has been added to the library.\n",
            "Book 'The River Between' has been added to the library.\n",
            "Book 'Kill Me Quick' has been added to the library.\n",
            "Book 'Dust' has been added to the library.\n",
            "Book 'Son Of A Woman' has been added to the library.\n",
            "Book 'Siku Njema' has been added to the library.\n",
            "Book 'My Father's Head' has been added to the library.\n",
            "Book 'Coming To Birth' has been added to the library.\n",
            "Book 'Land Without Thunder' has been added to the library.\n"
          ]
        }
      ]
    },
    {
      "cell_type": "code",
      "source": [
        "library.display_books()"
      ],
      "metadata": {
        "colab": {
          "base_uri": "https://localhost:8080/"
        },
        "id": "EvLaJwJCxQol",
        "outputId": "15fc520b-c237-4fcb-ccbe-d1991cbd78d2"
      },
      "execution_count": 12,
      "outputs": [
        {
          "output_type": "stream",
          "name": "stdout",
          "text": [
            "Across The Bridge by Mwangi Gicheru isbn: 97812 Available: True)\n",
            "My Life In Crime by John Kiriamiti isbn: 97898 Available: False)\n",
            "The River Between by Ngugi Wa Thiongo isbn: 97298 Available: False)\n",
            "Kill Me Quick by Meja Mwangi isbn: 97899 Available: False)\n",
            "Dust by Yvonne Adhiambo Owuor isbn: 97808 Available: True)\n",
            "Son Of A Woman by Samuel Mangua isbn: 97798 Available: False)\n",
            "Siku Njema by Ken Walibora isbn: 97893 Available: True)\n",
            "My Father's Head by Okwiri Oduor isbn: 99789 Available: False)\n",
            "Coming To Birth by Marjorie Oludhe Macgoye isbn: 95898 Available: False)\n",
            "Land Without Thunder by Grace Ogot isbn: 96898 Available: False)\n",
            "Across The Bridge by Mwangi Gicheru isbn: 97812 Available: True)\n",
            "My Life In Crime by John Kiriamiti isbn: 97898 Available: False)\n",
            "The River Between by Ngugi Wa Thiongo isbn: 97298 Available: False)\n",
            "Kill Me Quick by Meja Mwangi isbn: 97899 Available: False)\n",
            "Dust by Yvonne Adhiambo Owuor isbn: 97808 Available: True)\n",
            "Son Of A Woman by Samuel Mangua isbn: 97798 Available: False)\n",
            "Siku Njema by Ken Walibora isbn: 97893 Available: True)\n",
            "My Father's Head by Okwiri Oduor isbn: 99789 Available: False)\n",
            "Coming To Birth by Marjorie Oludhe Macgoye isbn: 95898 Available: False)\n",
            "Land Without Thunder by Grace Ogot isbn: 96898 Available: False)\n"
          ]
        }
      ]
    },
    {
      "cell_type": "code",
      "source": [
        "library.borrow_book(\"96898\")"
      ],
      "metadata": {
        "colab": {
          "base_uri": "https://localhost:8080/"
        },
        "id": "BuJauy-2xYxd",
        "outputId": "aa830a78-0cad-4a6d-809e-acdb664167ba"
      },
      "execution_count": 11,
      "outputs": [
        {
          "output_type": "stream",
          "name": "stdout",
          "text": [
            "Book not AVAILABLE.\n"
          ]
        }
      ]
    },
    {
      "cell_type": "code",
      "source": [
        "library.return_book(\"96898\")"
      ],
      "metadata": {
        "colab": {
          "base_uri": "https://localhost:8080/"
        },
        "id": "SRfcOPdyyBAk",
        "outputId": "5d705fd7-cc68-468e-f390-d58e36a6ff0d"
      },
      "execution_count": 13,
      "outputs": [
        {
          "output_type": "stream",
          "name": "stdout",
          "text": [
            "You have returned 'Land Without Thunder'.\n"
          ]
        }
      ]
    },
    {
      "cell_type": "code",
      "source": [
        "library.display_books()"
      ],
      "metadata": {
        "colab": {
          "base_uri": "https://localhost:8080/"
        },
        "id": "wsz9dnKcyIQG",
        "outputId": "2da1f3af-6ee6-4075-e2c6-ff4736d097d4"
      },
      "execution_count": 14,
      "outputs": [
        {
          "output_type": "stream",
          "name": "stdout",
          "text": [
            "Across The Bridge by Mwangi Gicheru isbn: 97812 Available: True)\n",
            "My Life In Crime by John Kiriamiti isbn: 97898 Available: False)\n",
            "The River Between by Ngugi Wa Thiongo isbn: 97298 Available: False)\n",
            "Kill Me Quick by Meja Mwangi isbn: 97899 Available: False)\n",
            "Dust by Yvonne Adhiambo Owuor isbn: 97808 Available: True)\n",
            "Son Of A Woman by Samuel Mangua isbn: 97798 Available: False)\n",
            "Siku Njema by Ken Walibora isbn: 97893 Available: True)\n",
            "My Father's Head by Okwiri Oduor isbn: 99789 Available: False)\n",
            "Coming To Birth by Marjorie Oludhe Macgoye isbn: 95898 Available: False)\n",
            "Land Without Thunder by Grace Ogot isbn: 96898 Available: True)\n",
            "Across The Bridge by Mwangi Gicheru isbn: 97812 Available: True)\n",
            "My Life In Crime by John Kiriamiti isbn: 97898 Available: False)\n",
            "The River Between by Ngugi Wa Thiongo isbn: 97298 Available: False)\n",
            "Kill Me Quick by Meja Mwangi isbn: 97899 Available: False)\n",
            "Dust by Yvonne Adhiambo Owuor isbn: 97808 Available: True)\n",
            "Son Of A Woman by Samuel Mangua isbn: 97798 Available: False)\n",
            "Siku Njema by Ken Walibora isbn: 97893 Available: True)\n",
            "My Father's Head by Okwiri Oduor isbn: 99789 Available: False)\n",
            "Coming To Birth by Marjorie Oludhe Macgoye isbn: 95898 Available: False)\n",
            "Land Without Thunder by Grace Ogot isbn: 96898 Available: False)\n"
          ]
        }
      ]
    },
    {
      "cell_type": "code",
      "source": [
        "# Display available books\n",
        "#\n",
        "\n",
        "# Borrow a book by ISBN\n",
        "\n",
        "\n",
        "# Display books after borrowing\n",
        "# library.display_books()\n",
        "\n",
        "# Return the book\n",
        "\n",
        "\n",
        "# Display books after returning\n",
        "# library.display_books()"
      ],
      "metadata": {
        "id": "sZQ5Ht_QxGaW"
      },
      "execution_count": null,
      "outputs": []
    }
  ]
}